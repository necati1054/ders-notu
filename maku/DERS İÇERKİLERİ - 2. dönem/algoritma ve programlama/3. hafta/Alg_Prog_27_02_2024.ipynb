{
 "cells": [
  {
   "cell_type": "markdown",
   "id": "7464a7e6",
   "metadata": {},
   "source": [
    "# BIG \"O\" NOTASYONU"
   ]
  },
  {
   "cell_type": "code",
   "execution_count": 1,
   "id": "ae586d1d",
   "metadata": {},
   "outputs": [],
   "source": [
    "def bigon(n):\n",
    "    for i in range(0,n):\n",
    "        print(i)"
   ]
  },
  {
   "cell_type": "code",
   "execution_count": 2,
   "id": "689b12fa",
   "metadata": {},
   "outputs": [
    {
     "name": "stdout",
     "output_type": "stream",
     "text": [
      "0\n",
      "1\n",
      "2\n",
      "3\n",
      "4\n"
     ]
    }
   ],
   "source": [
    "bigon(5)"
   ]
  },
  {
   "cell_type": "code",
   "execution_count": 3,
   "id": "8987c357",
   "metadata": {},
   "outputs": [
    {
     "name": "stdout",
     "output_type": "stream",
     "text": [
      "0\n",
      "1\n",
      "2\n",
      "3\n",
      "4\n",
      "5\n",
      "6\n",
      "7\n",
      "8\n",
      "9\n"
     ]
    }
   ],
   "source": [
    "bigon(10)"
   ]
  },
  {
   "cell_type": "markdown",
   "id": "e139d50f",
   "metadata": {},
   "source": [
    "Yukarıdaki kod parçacığında yapılması istenen işlem, kaç tane rakam veriliyorsa o kadar yazdıracak. "
   ]
  },
  {
   "cell_type": "code",
   "execution_count": 4,
   "id": "c674b5db",
   "metadata": {},
   "outputs": [],
   "source": [
    "def bigon2(n):\n",
    "    for i in range(0,n):\n",
    "        for j in range(0,n):\n",
    "            print(i,j)"
   ]
  },
  {
   "cell_type": "code",
   "execution_count": 47,
   "id": "edccd1a0",
   "metadata": {},
   "outputs": [
    {
     "name": "stdout",
     "output_type": "stream",
     "text": [
      "0 0\n",
      "0 1\n",
      "0 2\n",
      "1 0\n",
      "1 1\n",
      "1 2\n",
      "2 0\n",
      "2 1\n",
      "2 2\n"
     ]
    }
   ],
   "source": [
    "bigon2(3)"
   ]
  },
  {
   "cell_type": "markdown",
   "id": "c89ec3e6",
   "metadata": {},
   "source": [
    "Yukarıdaki kod parçaçığında ise Big \"O\" n üzeri 2 olarak yazdık."
   ]
  },
  {
   "cell_type": "code",
   "execution_count": 6,
   "id": "eab1bd4f",
   "metadata": {},
   "outputs": [],
   "source": [
    "def bigon3(n):\n",
    "    for i in range(0,n):\n",
    "        for j in range(0,n):\n",
    "            for k in range(0,n):\n",
    "                print(i,j,k)"
   ]
  },
  {
   "cell_type": "code",
   "execution_count": null,
   "id": "7231e329",
   "metadata": {},
   "outputs": [
    {
     "ename": "",
     "evalue": "",
     "output_type": "error",
     "traceback": [
      "\u001b[1;31mRunning cells with 'c:\\Users\\arman\\AppData\\Local\\Programs\\Python\\Python312\\python.exe' requires the ipykernel package.\n",
      "\u001b[1;31mRun the following command to install 'ipykernel' into the Python environment. \n",
      "\u001b[1;31mCommand: 'c:/Users/arman/AppData/Local/Programs/Python/Python312/python.exe -m pip install ipykernel -U --user --force-reinstall'"
     ]
    }
   ],
   "source": [
    "bigon3(5)"
   ]
  },
  {
   "cell_type": "markdown",
   "id": "9494b47c",
   "metadata": {},
   "source": [
    "Yukarıdaki kod parçaçığında ise Big \"O\" n üzeri 3 olarak yazdık."
   ]
  },
  {
   "cell_type": "code",
   "execution_count": 10,
   "id": "f02ea991",
   "metadata": {},
   "outputs": [
    {
     "data": {
      "text/plain": [
       "2"
      ]
     },
     "execution_count": 10,
     "metadata": {},
     "output_type": "execute_result"
    }
   ],
   "source": [
    "import math\n",
    "math.floor(5/2)  #Yuvarlama işlemi yapıyor"
   ]
  },
  {
   "cell_type": "code",
   "execution_count": 11,
   "id": "0d351f5b",
   "metadata": {},
   "outputs": [
    {
     "data": {
      "text/plain": [
       "3"
      ]
     },
     "execution_count": 11,
     "metadata": {},
     "output_type": "execute_result"
    }
   ],
   "source": [
    "import math\n",
    "math.floor(7/2) #Yuvarlama işlemi yapıyor"
   ]
  },
  {
   "cell_type": "code",
   "execution_count": 12,
   "id": "68ef1c29",
   "metadata": {},
   "outputs": [],
   "source": [
    "import math\n",
    "def logn(n):\n",
    "    while n > 1:\n",
    "        n = math.floor(n/2)\n",
    "        print(n) #Logaritmik olarak hesaplamasını gerçekleştiriyor"
   ]
  },
  {
   "cell_type": "code",
   "execution_count": 15,
   "id": "775299fd",
   "metadata": {},
   "outputs": [
    {
     "name": "stdout",
     "output_type": "stream",
     "text": [
      "32\n",
      "16\n",
      "8\n",
      "4\n",
      "2\n",
      "1\n"
     ]
    }
   ],
   "source": [
    "logn(64)"
   ]
  },
  {
   "cell_type": "code",
   "execution_count": 18,
   "id": "f87eaf4f",
   "metadata": {},
   "outputs": [],
   "source": [
    "def nlogn(n):\n",
    "    lim = n\n",
    "    while n > 1:\n",
    "        n = math.floor(n/2) #her seferinde logaritmik olarak azalıyor\n",
    "        for i in range(1,lim): #1'den n'e kadar giderse her seferinde n değiştiği için \"lim isminde\" başka bir değer atıyoruz\n",
    "             print(i)"
   ]
  },
  {
   "cell_type": "code",
   "execution_count": 25,
   "id": "c5d43396",
   "metadata": {},
   "outputs": [
    {
     "name": "stdout",
     "output_type": "stream",
     "text": [
      "1\n",
      "2\n",
      "3\n",
      "1\n",
      "2\n",
      "3\n"
     ]
    }
   ],
   "source": [
    "nlogn(4)"
   ]
  },
  {
   "cell_type": "markdown",
   "id": "8f1ca9da",
   "metadata": {},
   "source": [
    "nlogn algoritmaları genellikle sıralama \"sorting\" türdeki işlemlerde kullanılıyor. "
   ]
  },
  {
   "cell_type": "code",
   "execution_count": 20,
   "id": "2924929e",
   "metadata": {},
   "outputs": [],
   "source": [
    "def nfactorial(n):\n",
    "    if n == 0:\n",
    "        print(\"1\") #n değerinin 0 olması durumunda 1 yazılmasını belirtiyoruz. Keza 0!=1\n",
    "        return\n",
    "    else:\n",
    "        for i in range(0,n):\n",
    "            print(i)\n",
    "            nfactorial(n-1) #recursive call yani tekrarlı çağırma, mesela n:5 için faktoriyel olarak bir azaltıp tekrar çağırıyor "
   ]
  },
  {
   "cell_type": "code",
   "execution_count": 29,
   "id": "bf76d593",
   "metadata": {},
   "outputs": [
    {
     "name": "stdout",
     "output_type": "stream",
     "text": [
      "0\n",
      "0\n",
      "1\n",
      "1\n",
      "0\n",
      "1\n"
     ]
    }
   ],
   "source": [
    "nfactorial(2)"
   ]
  },
  {
   "cell_type": "markdown",
   "id": "9af087f0",
   "metadata": {},
   "source": [
    "Biz yukarıdaki kod parçacığında bir sayının faktoriyelini hesaplamıyoruz. Algoritmamız n! kadar çağrılıyorsa bu işlemin işlem yükünü gösteriyoruz."
   ]
  },
  {
   "cell_type": "code",
   "execution_count": 41,
   "id": "c74c7999",
   "metadata": {},
   "outputs": [],
   "source": [
    "def actualFactorial(n):\n",
    "    if (n==1 or n==0):\n",
    "        return 1\n",
    "    else:\n",
    "        return (n * actualFactorial(n - 1)) #recursive function"
   ]
  },
  {
   "cell_type": "code",
   "execution_count": 42,
   "id": "b38f9df5",
   "metadata": {},
   "outputs": [
    {
     "data": {
      "text/plain": [
       "120"
      ]
     },
     "execution_count": 42,
     "metadata": {},
     "output_type": "execute_result"
    }
   ],
   "source": [
    "actualFactorial(5)"
   ]
  },
  {
   "cell_type": "code",
   "execution_count": 43,
   "id": "51646aea",
   "metadata": {},
   "outputs": [
    {
     "data": {
      "text/plain": [
       "362880"
      ]
     },
     "execution_count": 43,
     "metadata": {},
     "output_type": "execute_result"
    }
   ],
   "source": [
    "actualFactorial(9)"
   ]
  },
  {
   "cell_type": "code",
   "execution_count": 44,
   "id": "35d98e45",
   "metadata": {},
   "outputs": [],
   "source": [
    "counter = 0\n",
    "def actualFactorial(n):\n",
    "    global counter\n",
    "    counter += 1\n",
    "    print(counter) #counter yani sayacı kullanma nedenimiz n sayısı kaç ise o kadar çağrılma durumunu belirtiyor \n",
    "    if (n==1 or n==0):\n",
    "        return 1\n",
    "    else:\n",
    "        return (n * actualFactorial(n - 1))"
   ]
  },
  {
   "cell_type": "code",
   "execution_count": 45,
   "id": "08b99b62",
   "metadata": {},
   "outputs": [
    {
     "name": "stdout",
     "output_type": "stream",
     "text": [
      "1\n",
      "2\n",
      "3\n",
      "4\n",
      "5\n"
     ]
    },
    {
     "data": {
      "text/plain": [
       "120"
      ]
     },
     "execution_count": 45,
     "metadata": {},
     "output_type": "execute_result"
    }
   ],
   "source": [
    "actualFactorial(5)"
   ]
  },
  {
   "cell_type": "code",
   "execution_count": null,
   "id": "778af4e6",
   "metadata": {},
   "outputs": [],
   "source": []
  }
 ],
 "metadata": {
  "kernelspec": {
   "display_name": "Python 3 (ipykernel)",
   "language": "python",
   "name": "python3"
  },
  "language_info": {
   "codemirror_mode": {
    "name": "ipython",
    "version": 3
   },
   "file_extension": ".py",
   "mimetype": "text/x-python",
   "name": "python",
   "nbconvert_exporter": "python",
   "pygments_lexer": "ipython3",
   "version": "3.12.1"
  }
 },
 "nbformat": 4,
 "nbformat_minor": 5
}
