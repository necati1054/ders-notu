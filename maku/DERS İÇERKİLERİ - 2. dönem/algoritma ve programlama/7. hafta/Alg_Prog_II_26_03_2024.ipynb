{
 "cells": [
  {
   "cell_type": "markdown",
   "id": "93b731f7",
   "metadata": {},
   "source": [
    "# SINIF NİTELİĞİ"
   ]
  },
  {
   "cell_type": "markdown",
   "id": "b21ee977",
   "metadata": {},
   "source": [
    "Bir sınıfın bir çok özelliği olabilir. Bu özellikler sınıfların niteliği olarak adlandırılır. Sınıfları tanımlayan, işlevlerini anlatan özellikleridir. Örneğin; arabanın rengi, motoru, modeli, markası vb. Aynı şekilde bir insanın özelliklerinie örnek olarak ad, soyad, yaş, kilo verilebilir. Buradaki sınıf kavramı görüldüğü üzere \"ORTAK\" olan bir türü ifade etmektedir. Yani aslında insan sınıfı bütün bir türü temsil eder. Sadece bir insanı değil, genel olarak bütün insanlığın özelliğini temsil eder."
   ]
  },
  {
   "cell_type": "code",
   "execution_count": 1,
   "id": "dfdc963b",
   "metadata": {},
   "outputs": [],
   "source": [
    "class Insan:\n",
    "    ad=\"\"\n",
    "    soyad=\"\"\n",
    "    yas=0\n",
    "    kilo=0"
   ]
  },
  {
   "cell_type": "markdown",
   "id": "22ec58f3",
   "metadata": {},
   "source": [
    "Yukarıda bir insan sınıfının özelliklerini tanımladık. Tanımlarken hepsinin ilk değerini verdik ki bu \"ZORUNLU\" bir işlemdir. Bu sınıftan bir nesne oluşturmak için sınıfın adını yazmak gerekiyor."
   ]
  },
  {
   "cell_type": "code",
   "execution_count": 2,
   "id": "1b38bcc2",
   "metadata": {},
   "outputs": [],
   "source": [
    "#Nesne oluşturuldu\n",
    "insan1=Insan()"
   ]
  },
  {
   "cell_type": "markdown",
   "id": "6052b365",
   "metadata": {},
   "source": [
    "\"Insan()\" ifadesi ile Insan sınıfından bir nesne oluşturup bu nesneyi de \"insan1\" değişkeninde tuttuk."
   ]
  },
  {
   "cell_type": "code",
   "execution_count": 3,
   "id": "2daa8ebd",
   "metadata": {},
   "outputs": [],
   "source": [
    "insan1.ad=\"Ayşe\"\n",
    "insan1.soyad=\"Gül\"\n",
    "insan1.yas= 12\n",
    "insan1.kilo=30"
   ]
  },
  {
   "cell_type": "code",
   "execution_count": 4,
   "id": "7df0be21",
   "metadata": {},
   "outputs": [
    {
     "name": "stdout",
     "output_type": "stream",
     "text": [
      "İnsan1 Nesnesi\n",
      "Adı:  Ayşe\n",
      "Soyadı:  Gül\n",
      "Yaşı:  12\n",
      "Kilosu:  30\n",
      "insan1 nesnesinin türü:  <__main__.Insan object at 0x0000014AB7493B50>\n"
     ]
    }
   ],
   "source": [
    "print(\"İnsan1 Nesnesi\")\n",
    "print(\"Adı: \", insan1.ad)\n",
    "print(\"Soyadı: \", insan1.soyad)\n",
    "print(\"Yaşı: \", insan1.yas)\n",
    "print(\"Kilosu: \", insan1.kilo)\n",
    "print(\"insan1 nesnesinin türü: \", insan1)"
   ]
  },
  {
   "cell_type": "markdown",
   "id": "59806aaa",
   "metadata": {},
   "source": [
    "Sınıf oluşturulurken genel bir tanımlama yapıyoruz. Ortak olan özellikleri yazıyoruz. Ancak nesne oluştururken sınıfı türetiyoruz. Bir sınıfın özelliklerini kullanarak özelleştirme yapıyoruz. Sınıf oluşturma genel bir işlemdir. Sınıf oluştururken özelliklerin ne olduğu bilinmez. Çünkü sınıflar soyut kavramlardır. Ancak bu sınıfları kullanarak nesne oluşturma işleminde belirsizlik giderilir. Nesneler somut kavramlardır. Sınıfların somutlaşmış halidir. "
   ]
  },
  {
   "cell_type": "code",
   "execution_count": 5,
   "id": "c1010fcb",
   "metadata": {},
   "outputs": [],
   "source": [
    "#yeni nesne oluşturalım\n",
    "insan2=Insan()\n",
    "insan2.ad=\"Fatma\"\n",
    "insan2.soyad=\"Gülmez\"\n",
    "insan2.yas= 10\n",
    "insan2.kilo=25"
   ]
  },
  {
   "cell_type": "code",
   "execution_count": 6,
   "id": "cff9d797",
   "metadata": {},
   "outputs": [
    {
     "name": "stdout",
     "output_type": "stream",
     "text": [
      "İnsan2 Nesnesi\n",
      "Adı:  Fatma\n",
      "Soyadı:  Gülmez\n",
      "Yaşı:  10\n",
      "Kilosu:  25\n",
      "insan1 nesnesinin türü:  <__main__.Insan object at 0x0000014AB74A2850>\n"
     ]
    }
   ],
   "source": [
    "print(\"İnsan2 Nesnesi\")\n",
    "print(\"Adı: \", insan2.ad)\n",
    "print(\"Soyadı: \", insan2.soyad)\n",
    "print(\"Yaşı: \", insan2.yas)\n",
    "print(\"Kilosu: \", insan2.kilo)\n",
    "print(\"insan1 nesnesinin türü: \", insan2)"
   ]
  },
  {
   "cell_type": "markdown",
   "id": "da7791f2",
   "metadata": {},
   "source": [
    "# SINIF İŞLEVLERİ VE \"SELF\" KOMUTU"
   ]
  },
  {
   "cell_type": "markdown",
   "id": "c5c37576",
   "metadata": {},
   "source": [
    "Sınıfın özellikleri olduğu gibi yerine getirmesi gereken işlevleri de olabilir. Bu işlevler eylemlerdir. İşlevleri fonksiyon olarak tanımlayabiliriz."
   ]
  },
  {
   "cell_type": "code",
   "execution_count": 7,
   "id": "d9d86a7c",
   "metadata": {},
   "outputs": [],
   "source": [
    "#yeni bir sınıf oluşturalım\n",
    "class Kus:\n",
    "    tur=\"\"\n",
    "    yas=0\n",
    "#bu sınıfa bir eylemi ifa etmesi için fonksiyon tanımlayalım\n",
    "def ot(self):\n",
    "    print(\"cik\")"
   ]
  },
  {
   "cell_type": "markdown",
   "id": "0342a9c7",
   "metadata": {},
   "source": [
    "Dikkat etmemiz gereken önemli bir husus \"self\" deyimidir. Fonksiyon oluştururken \"self\" anahtar sözcüğünü parametre olarak verdik. Python dilinde zorunlu bir ifadedir. Her zaman sınıflarda bir fonksiyon oluştururken ilk parametresi \"self\" olmak zorundadır. \"self\" anahtar sözcüğü ile sınıf içerisindeki değişkenlere erişebiliriz."
   ]
  },
  {
   "cell_type": "code",
   "execution_count": 8,
   "id": "7f1b4a4e",
   "metadata": {},
   "outputs": [],
   "source": [
    "class Kus:\n",
    "    tur=\"\"\n",
    "    yas=0\n",
    "    def ot(self):\n",
    "        print(\"cik\")\n",
    "    def yaslan(self):\n",
    "        self.yas += 1\n",
    "        print(\"yaşım arttı: \", self.yas)"
   ]
  },
  {
   "cell_type": "code",
   "execution_count": 9,
   "id": "6d8b3997",
   "metadata": {},
   "outputs": [],
   "source": [
    "#kuş sınıfına bir nesne oluşturulım\n",
    "papagan=Kus()\n",
    "papagan.tur=\"Sultan Papağanı\"\n",
    "papagan.yas=2"
   ]
  },
  {
   "cell_type": "code",
   "execution_count": 10,
   "id": "9231da01",
   "metadata": {},
   "outputs": [
    {
     "name": "stdout",
     "output_type": "stream",
     "text": [
      "kuş türü:  Sultan Papağanı\n",
      "kuş yaşı:  2\n",
      "cik\n",
      "cik\n",
      "cik\n",
      "yaşım arttı:  3\n",
      "yaşım arttı:  4\n"
     ]
    }
   ],
   "source": [
    "#papagan nesnesinin işlevlerini de tanımlayalım\n",
    "print(\"kuş türü: \", papagan.tur)\n",
    "print(\"kuş yaşı: \", papagan.yas)\n",
    "papagan.ot()\n",
    "papagan.ot()\n",
    "papagan.ot()\n",
    "papagan.yaslan()\n",
    "papagan.yaslan()"
   ]
  },
  {
   "cell_type": "markdown",
   "id": "9a2a9993",
   "metadata": {},
   "source": [
    "# SINIFLARIN İLK DEĞERİ"
   ]
  },
  {
   "cell_type": "markdown",
   "id": "60382ecd",
   "metadata": {},
   "source": [
    "Bu bölümde sınıflara ilk değeri verme işlemi yapacağız. Örneğin her sınıfın bir başlangıç değeri olacak."
   ]
  },
  {
   "cell_type": "code",
   "execution_count": 11,
   "id": "3ddbacc9",
   "metadata": {},
   "outputs": [],
   "source": [
    "class Kedi:\n",
    "    ad=\"mırnav\"\n",
    "    yas=0\n",
    "    \n",
    "    def miyav(self):\n",
    "        print(\"merhaba ben: {}, miyav!!!\".format(self.ad))\n",
    "        \n",
    "    def yaslan(self):\n",
    "        self.yas+=1\n",
    "        print(\"yaşım arttı: \", self.yas)"
   ]
  },
  {
   "cell_type": "markdown",
   "id": "c325f631",
   "metadata": {},
   "source": [
    "Yukarıda görüldüğü gibi bu defa oluşturduğumuz sınıfta ilk değerlerin atamalarını yaptık. Artık doğrudan bu sınıfı \"çoğaltma\" işlemi yapabiliriz. Yeni bir sınıf oluşturalım. "
   ]
  },
  {
   "cell_type": "markdown",
   "id": "67b1cae4",
   "metadata": {},
   "source": [
    "\"format()\" metodunda  kullanıcı, bir değişkenin nerede ikame edileceğini işaretlemek için {} ‘yi kullanır ve ayrıntılı biçimlendirme yönergeleri sağlayabilir, ancak kullanıcının biçimlendirilecek bilgileri de sağlaması gerekir. Bu metoda dair örnekler aşağıdadır."
   ]
  },
  {
   "cell_type": "code",
   "execution_count": 12,
   "id": "364d2509",
   "metadata": {},
   "outputs": [
    {
     "name": "stdout",
     "output_type": "stream",
     "text": [
      "Fiyatı 50 TL'dır\n"
     ]
    }
   ],
   "source": [
    "fiyat = 50\n",
    "etiket = \"Fiyatı {} TL'dır\"\n",
    "print(etiket.format(fiyat))"
   ]
  },
  {
   "cell_type": "code",
   "execution_count": 13,
   "id": "be7fcaff",
   "metadata": {},
   "outputs": [
    {
     "name": "stdout",
     "output_type": "stream",
     "text": [
      "Ben 3 adet 567 barkodlu ürünü 49.00 TL fiyatı ile almak istiyorum.\n"
     ]
    }
   ],
   "source": [
    "adet = 3\n",
    "barkod = 567\n",
    "fiyat = 49\n",
    "\n",
    "siparis = \"Ben {} adet {} barkodlu ürünü {:.2f} TL fiyatı ile almak istiyorum.\"\n",
    "\n",
    "print(siparis.format(adet, barkod, fiyat))"
   ]
  },
  {
   "cell_type": "code",
   "execution_count": 14,
   "id": "c7c07cb4",
   "metadata": {},
   "outputs": [
    {
     "name": "stdout",
     "output_type": "stream",
     "text": [
      "Onun adı Murat. Murat, 36 yaşında.\n"
     ]
    }
   ],
   "source": [
    "isim = \"Murat\"\n",
    "yas = 36\n",
    "metin = \"Onun adı {1}. {1}, {0} yaşında.\"\n",
    "print(metin.format(yas, isim))"
   ]
  },
  {
   "cell_type": "markdown",
   "id": "ee0d7e1e",
   "metadata": {},
   "source": [
    "Burada 0-1 sıralaması print fonksiyonunda yas--0 indeksinde, isim--1 indeksinde olduğu içindir."
   ]
  },
  {
   "cell_type": "code",
   "execution_count": 15,
   "id": "0dd10cac",
   "metadata": {},
   "outputs": [
    {
     "name": "stdout",
     "output_type": "stream",
     "text": [
      "merhaba ben: mırnav, miyav!!!\n",
      "merhaba ben: mırnav, miyav!!!\n"
     ]
    }
   ],
   "source": [
    "kedi1=Kedi()\n",
    "kedi2=Kedi()\n",
    "\n",
    "kedi1.miyav()\n",
    "kedi2.miyav()"
   ]
  },
  {
   "cell_type": "markdown",
   "id": "150b7b26",
   "metadata": {},
   "source": [
    "Yukarıda görüldüğü gibi kedi sınıfı oluşturulmuş ve \"miyav()\" fonksiyonu çalıştırılmıştır. Burada sınıf oluştururken ilk değerleri verdiğimiz için tekrar değer ataması yapmaya gerek yoktur."
   ]
  },
  {
   "cell_type": "code",
   "execution_count": 16,
   "id": "94cc2b48",
   "metadata": {},
   "outputs": [
    {
     "name": "stdout",
     "output_type": "stream",
     "text": [
      "merhaba ben: Lila, miyav!!!\n"
     ]
    }
   ],
   "source": [
    "kedi3=Kedi()\n",
    "kedi3.ad=\"Lila\"\n",
    "kedi3.miyav()"
   ]
  },
  {
   "cell_type": "markdown",
   "id": "16cca280",
   "metadata": {},
   "source": [
    "Yeni bir nesne oluşturduk ve bu nesnenin varsayılan ilk değerini değiştirdik. Unutulmaması gereken bir konu şudur ki; bir sınıfın ilk değerleri verildiğinde bu sınıftan oluşturulan TÜM nesneler o değerlere sahip olur."
   ]
  },
  {
   "cell_type": "markdown",
   "id": "25230426",
   "metadata": {},
   "source": [
    "# YAPICI FONKSİYON INIT()"
   ]
  },
  {
   "cell_type": "markdown",
   "id": "0e0b4109",
   "metadata": {},
   "source": [
    "Yapıcı fonksiyon; bir nesne oluşturulduğunda bu nesneye ilk özellikleri veren fonksiyondur. Başka dillerde #constructor (inşaa fonksiyonu) olarak da adlandırılır. Görevi #ilklemektir. Yani nesneye ilk özelliklerini kazandırmaktır. "
   ]
  },
  {
   "cell_type": "code",
   "execution_count": 17,
   "id": "9ff8dd7e",
   "metadata": {},
   "outputs": [
    {
     "name": "stdout",
     "output_type": "stream",
     "text": [
      "yapıcı fonksiyon çalıştı\n"
     ]
    }
   ],
   "source": [
    "class bilgisayar:\n",
    "    model=\"\"\n",
    "    marka=\"\"\n",
    "    \n",
    "    def __init__(self):\n",
    "        print(\"yapıcı fonksiyon çalıştı\")\n",
    "        \n",
    "#yeni nesne oluşturuluyor\n",
    "\n",
    "laptop=bilgisayar()"
   ]
  },
  {
   "cell_type": "markdown",
   "id": "28b1ea1a",
   "metadata": {},
   "source": [
    "yukarıda da görüldüğü üzere bir sınıf oluşturduk ve bu defa diğer sınıflardan farklı olarak #yapıcı fonksiyonu kendimiz yazdık. Daha sonra oluşturulan sınıftan bir nesne ürettik. Ancak nesneye model ve marka bilgilerini yazmadık. Sadece nesne üretildi. init() fonksiyonu bir nesne üretilirken varsayılan olarak çalışan ilk fonksiyondur. Ancak biz bu fonksiyonu tanımlarken yukarıda asıl görevinin ilklemek olduğunu söylemiştik. Yani bu fonksiyon aslında ilk değerleri vermek için kullanılır."
   ]
  },
  {
   "cell_type": "code",
   "execution_count": 18,
   "id": "7ceaf20f",
   "metadata": {},
   "outputs": [
    {
     "name": "stdout",
     "output_type": "stream",
     "text": [
      "Marka:  MSI\n",
      "Model:  Leopard\n"
     ]
    }
   ],
   "source": [
    "class bilgisayar:\n",
    "    def __init__(self, marka, model):\n",
    "        self.marka=marka\n",
    "        self.model=model\n",
    "        \n",
    "#yeni nesne\n",
    "\n",
    "laptop=bilgisayar(\"MSI\", \"Leopard\")\n",
    "\n",
    "print(\"Marka: \", laptop.marka)\n",
    "print(\"Model: \", laptop.model)"
   ]
  },
  {
   "cell_type": "markdown",
   "id": "dd4f07b0",
   "metadata": {},
   "source": [
    "Örnektede görüldüğü gibi init() fonksiyonu sayesinde ilkleme işlemi yapılmıştır. Burada fonksiyon marka ve model isimli değerleri parametre olarak almıştır. Daha sonra dışarıdan gelen bu değerler self.model ve self.marka ile sınıf içerisindeki değişkenlere atanmıştır. Dolayısıyla bir nesne üretme işleminde dışarıdan gelecek değerler içerideki değişkenlere atanacaktır. Peki yapıcı fonksiyondaki ilkleme nedir?"
   ]
  },
  {
   "cell_type": "code",
   "execution_count": 19,
   "id": "c153c899",
   "metadata": {},
   "outputs": [],
   "source": [
    "#yeni nesne\n",
    "#laptop=bilgisayar(\"MSI\", \"Leopard\")"
   ]
  },
  {
   "cell_type": "markdown",
   "id": "69364dc1",
   "metadata": {},
   "source": [
    "İlkleme işlemi aslında yukarıdaki gibi yapılmıştır. Yani bir sınıftan bir nesne üretilirken üretme işlemi esnasında değerlerini vermektir. Bu sayede tekrar ayrı satırlarda değerleri vermemize gerek kalmaz. Ancak burada önemli nokta yapıcı fonksiyon parametre içerdiği için artık nesne tanımlanırken bu parametreleri vermek zorundayız. Yani aşağıdaki gibi bir ifade ile nesne oluşturamayız."
   ]
  },
  {
   "cell_type": "code",
   "execution_count": 20,
   "id": "fdc9f507",
   "metadata": {},
   "outputs": [],
   "source": [
    "#notebook=bilgisayar()"
   ]
  },
  {
   "cell_type": "markdown",
   "id": "a831fb1a",
   "metadata": {},
   "source": [
    "Yukarıdaki gibi bir nesne oluşturma işlemi yaparsak hata alırız. Çünkü yapıcı fonksiyoda \"marka ve model\" olarak iki parametre beklendiğini yazdık. Dolayısıyla iki parametre vermemiz gerekmektedir."
   ]
  },
  {
   "cell_type": "code",
   "execution_count": 21,
   "id": "a3a55419",
   "metadata": {},
   "outputs": [
    {
     "name": "stdout",
     "output_type": "stream",
     "text": [
      "Marka:  MSI\n",
      "Model:  Leopard\n"
     ]
    }
   ],
   "source": [
    "class bilgisayar:\n",
    "    def __init__(self, marka=\"MSI\", model=\"Leopard\"):\n",
    "        self.marka=marka\n",
    "        self.model=model\n",
    "        \n",
    "#yeni nesne\n",
    "\n",
    "laptop=bilgisayar()\n",
    "\n",
    "print(\"Marka: \", laptop.marka)\n",
    "print(\"Model: \", laptop.model)"
   ]
  },
  {
   "cell_type": "code",
   "execution_count": 22,
   "id": "5b3a0dc2",
   "metadata": {},
   "outputs": [
    {
     "name": "stdout",
     "output_type": "stream",
     "text": [
      "Marka:  Asus\n",
      "Model:  Zenbook\n"
     ]
    }
   ],
   "source": [
    "#yeni nesne\n",
    "\n",
    "notebook=bilgisayar(\"Asus\", \"Zenbook\")\n",
    "\n",
    "print(\"Marka: \", notebook.marka)\n",
    "print(\"Model: \", notebook.model)"
   ]
  },
  {
   "cell_type": "markdown",
   "id": "a18afd03",
   "metadata": {},
   "source": [
    "# KALITIM"
   ]
  },
  {
   "cell_type": "markdown",
   "id": "84146a89",
   "metadata": {},
   "source": [
    "Kalıtım kavramı büyük projelerde kullanılan ve modülerlik bir yapı kurmamızı sağlayan kavramdır. İngilizce Inheritance olarak adlandırılmaktadır. Bir proje tasarlanırken yazılım, alt modüllere ayrılır. Daha sonra alt modüllerin her biri için ayrı özellikler ve ayrı sınıflar kurulur. İşte tam bu noktada kalıtım bize kolaylık sağlar ve kod tekrarı yapmamızı önler. Kalıtım sayesinde yazılan özellikler tekrar kullanılabilir."
   ]
  },
  {
   "cell_type": "markdown",
   "id": "d23e440d",
   "metadata": {},
   "source": [
    "Örneğin bilgisayar ve tabletleri düşünelim. Bu elektronik araçların bir çok özelliği mesela işlemci, ram, hafıza, ekran gibi benzerdir. Bu nedenle bilgisayar ve tablet gibi ayrı ayrı sınıf oluşturduğumuzda bu ortak tanımlamaları her biri için tekrar yapmak zorundayız. Ancak kalıtım sayesinde bunun önüne geçebiliriz. Bu iki sınıf aslında elektronik aletlerin bir alt kümesidir."
   ]
  },
  {
   "cell_type": "markdown",
   "id": "04518a47",
   "metadata": {},
   "source": [
    "#miras alma işlemi aşağıdaki gibi yapılır\n",
    "\n",
    "class sınıf_adı (miras_alınacak_sınıf):\n",
    "\n",
    "...kodlar..."
   ]
  },
  {
   "cell_type": "code",
   "execution_count": 23,
   "id": "610f7f55",
   "metadata": {},
   "outputs": [],
   "source": [
    "class personel:\n",
    "    def __init__(self, ad, soyad,maas,departmanAdı):\n",
    "        self.ad=ad\n",
    "        self.soyad=soyad\n",
    "        self.maas=maas\n",
    "        self.departmanAdı=departmanAdı"
   ]
  },
  {
   "cell_type": "code",
   "execution_count": 24,
   "id": "49d6f023",
   "metadata": {},
   "outputs": [],
   "source": [
    "class Mudur (personel):\n",
    "    pass\n",
    "\n",
    "class Memur (personel):\n",
    "    pass\n",
    "\n",
    "class TeknikServis (personel):\n",
    "    pass"
   ]
  },
  {
   "cell_type": "markdown",
   "id": "42e63b5d",
   "metadata": {},
   "source": [
    "Görüldüğü gibi müdür, memur ve teknik servis sınıflarını oluşturduk. Bu sınıflar personel sınıfını miras almaktadır. Bu şekilde personel sınıfında yazılan tüm özellikleri kullanabilmektedir. Yani müdür sınıfında ad, soyad, maaş ve departman özellikleri otomatik olarak tanımlanmıştır. Tekrar tanımlanmasına gerek yoktur."
   ]
  },
  {
   "cell_type": "code",
   "execution_count": 25,
   "id": "fc5064dc",
   "metadata": {},
   "outputs": [
    {
     "name": "stdout",
     "output_type": "stream",
     "text": [
      "müdür sınıfı\n",
      "Adı:  nilgün\n",
      "Soyadı:  şengöz\n",
      "Maaş:  1000\n",
      "Departman adı:  müdürlük\n",
      "\n",
      "memur sınıfı\n",
      "Adı:  ali\n",
      "Soyadı:  dursun\n",
      "Maaş:  800\n",
      "Departman adı:  memurluk\n"
     ]
    }
   ],
   "source": [
    "#nesne oluşturalım\n",
    "\n",
    "mudur=Mudur(\"nilgün\", \"şengöz\", 1000, \"müdürlük\")\n",
    "memur=Memur(\"ali\", \"dursun\", 800, \"memurluk\")\n",
    "teknikservis=TeknikServis(\"nusret\", \"halıcı\", 700, \"teknik servis\")\n",
    "\n",
    "print(\"müdür sınıfı\")\n",
    "print(\"Adı: \", mudur.ad)\n",
    "print(\"Soyadı: \", mudur.soyad)\n",
    "print(\"Maaş: \", mudur.maas)\n",
    "print(\"Departman adı: \", mudur.departmanAdı)\n",
    "\n",
    "print(\"\\nmemur sınıfı\")\n",
    "print(\"Adı: \", memur.ad)\n",
    "print(\"Soyadı: \", memur.soyad)\n",
    "print(\"Maaş: \", memur.maas)\n",
    "print(\"Departman adı: \", memur.departmanAdı)"
   ]
  },
  {
   "cell_type": "markdown",
   "id": "35c24831",
   "metadata": {},
   "source": [
    "Örnekte de görüldüğü üzere müdür, memur, teknik servis sınıflarının içi pass yani \"boş\" olmasına rağmen personel sınıfını miras aldıkları için personel snıfının özelliklerini de kullanılabilmektedir. Bu sayede her birinin ad, soyad, maaş ve departman adı özellikleri olmaktadır."
   ]
  },
  {
   "cell_type": "code",
   "execution_count": 26,
   "id": "57d1e8ea",
   "metadata": {},
   "outputs": [],
   "source": [
    "class personel:\n",
    "    def __init__(self, ad, soyad,maas,departmanAdı):\n",
    "        self.ad=ad\n",
    "        self.soyad=soyad\n",
    "        self.maas=maas\n",
    "        self.departmanAdı=departmanAdı\n",
    "        \n",
    "class Mudur (personel):\n",
    "     def __init__(self, ad, soyad,maas,departmanAdı, ek_prim):\n",
    "        self.ad=ad\n",
    "        self.soyad=soyad\n",
    "        self.maas=maas\n",
    "        self.departmanAdı=departmanAdı\n",
    "        self.ek_prim=ek_prim\n",
    "\n",
    "class Memur (personel):\n",
    "    pass\n",
    "\n",
    "class TeknikServis (personel):\n",
    "    pass "
   ]
  },
  {
   "cell_type": "markdown",
   "id": "3e9a8677",
   "metadata": {},
   "source": [
    "Müdür sınıfında ek özellik tanımlamak istediğimizde yine Personel sınıfının kodlarını yazmak zorunda kaldık. Tanımlamaları tekrar yaptık. Halbuki sadece \"ek_prim\" özelliği eklemek istemiştik. Bu durumu kolaylaştırmak için \"super()\" fonksiyonunu bilmemiz gerekiyor"
   ]
  },
  {
   "cell_type": "markdown",
   "id": "41f7bcb0",
   "metadata": {},
   "source": [
    "## super() fonksiyonu"
   ]
  },
  {
   "cell_type": "markdown",
   "id": "8bd09dae",
   "metadata": {},
   "source": [
    "Bu fonksiyon kalıtımda kullanılmaktadır. Miras alan sınıfta yapıcı metodun en üst satırında bulunmaktadır. Bu metot sayesinde miras alınan __sınıfın yapıcı metodu ile__ başlanılmış olur. Az önceki örneği super() metodu ile yazalım"
   ]
  },
  {
   "cell_type": "code",
   "execution_count": 27,
   "id": "35cd59de",
   "metadata": {},
   "outputs": [],
   "source": [
    "class personel:\n",
    "    def __init__(self, ad, soyad,maas,departmanAdı):\n",
    "        self.ad=ad\n",
    "        self.soyad=soyad\n",
    "        self.maas=maas\n",
    "        self.departmanAdı=departmanAdı\n",
    "\n",
    "class Mudur (personel):\n",
    "    def __init__(self, ad, soyad, maas, departmanAdı, ek_prim):\n",
    "        super().__init__(ad, soyad, maas, departmanAdı)\n",
    "        self.ek_prim=ek_prim\n",
    "        \n",
    "class Memur (personel):\n",
    "    pass\n",
    "\n",
    "class TeknikServis (personel):\n",
    "    pass"
   ]
  },
  {
   "cell_type": "markdown",
   "id": "7a11e750",
   "metadata": {},
   "source": [
    "\"super()\" metodu ile miras alınan sınıfın yapıcı fonksiyonu çağırılır. Bu sayede aynı kodları tekrar yazmaktan kurtulmuş oluruz."
   ]
  },
  {
   "cell_type": "code",
   "execution_count": 28,
   "id": "5d3292aa",
   "metadata": {},
   "outputs": [
    {
     "name": "stdout",
     "output_type": "stream",
     "text": [
      "müdür sınıfı\n",
      "Adı:  nilgün\n",
      "Soyadı:  şengöz\n",
      "Maaş:  1000\n",
      "Departman adı:  müdürlük\n",
      "Ek prim:  500\n",
      "\n",
      "memur sınıfı\n",
      "Adı:  ali\n",
      "Soyadı:  dursun\n",
      "Maaş:  800\n",
      "Departman adı:  memurluk\n"
     ]
    }
   ],
   "source": [
    "mudur=Mudur(\"nilgün\", \"şengöz\", 1000, \"müdürlük\", 500)\n",
    "\n",
    "print(\"müdür sınıfı\")\n",
    "print(\"Adı: \", mudur.ad)\n",
    "print(\"Soyadı: \", mudur.soyad)\n",
    "print(\"Maaş: \", mudur.maas)\n",
    "print(\"Departman adı: \", mudur.departmanAdı)\n",
    "print(\"Ek prim: \", mudur.ek_prim)\n",
    "\n",
    "\n",
    "print(\"\\nmemur sınıfı\")\n",
    "print(\"Adı: \", memur.ad)\n",
    "print(\"Soyadı: \", memur.soyad)\n",
    "print(\"Maaş: \", memur.maas)\n",
    "print(\"Departman adı: \", memur.departmanAdı)"
   ]
  },
  {
   "cell_type": "markdown",
   "id": "44304211",
   "metadata": {},
   "source": [
    "## overriding() (geçersiz kılma) işlemi"
   ]
  },
  {
   "cell_type": "markdown",
   "id": "b8a36534",
   "metadata": {},
   "source": [
    "Miras alınan sınıftaki bir metodu miras alan sınıfta tekrar tanımlamak isteyebiliriz. Böyle bir durumda EN SON yazılan metot geçerlidir. Örneğin personel sınıfında bir metot tanımladığımızı kabul edelim. Bu metodu miras alan sınıfta doğrudan kullanabiliriz. Eğer biz metodu miras aldığımız sınıfta AYNI ADLA tekrar yazarsak eski metodu kullanamayız. Bu işleme overriding işlemi denir."
   ]
  },
  {
   "cell_type": "code",
   "execution_count": 29,
   "id": "6e37a0b0",
   "metadata": {},
   "outputs": [],
   "source": [
    "class personel:\n",
    "    def __init__(self, ad, soyad,maas,departmanAdı):\n",
    "        self.ad=ad\n",
    "        self.soyad=soyad\n",
    "        self.maas=maas\n",
    "        self.departmanAdı=departmanAdı\n",
    "    \n",
    "    #yeni metot tanımlandı\n",
    "    def bilgiler(self):\n",
    "        print(\"bu bölüm personel alanıdır\")\n",
    "\n",
    "class Mudur (personel):\n",
    "    def __init__(self, ad, soyad, maas, departmanAdı, ek_prim):\n",
    "        super().__init__(ad, soyad, maas, departmanAdı)\n",
    "        self.ek_prim=ek_prim\n",
    "        \n",
    "class Memur (personel):\n",
    "    pass\n",
    "\n",
    "class TeknikServis (personel):\n",
    "    pass"
   ]
  },
  {
   "cell_type": "code",
   "execution_count": 30,
   "id": "f2fbcf62",
   "metadata": {},
   "outputs": [
    {
     "name": "stdout",
     "output_type": "stream",
     "text": [
      "müdür sınıfı\n",
      "Adı:  nilgün\n",
      "Soyadı:  şengöz\n",
      "Maaş:  1000\n",
      "Departman adı:  müdürlük\n",
      "Ek prim:  500\n",
      "bu bölüm personel alanıdır\n",
      "\n",
      "memur sınıfı\n",
      "Adı:  ali\n",
      "Soyadı:  dursun\n",
      "Maaş:  800\n",
      "Departman adı:  memurluk\n"
     ]
    }
   ],
   "source": [
    "mudur=Mudur(\"nilgün\", \"şengöz\", 1000, \"müdürlük\", 500)\n",
    "memur=Memur(\"ali\", \"dursun\", 800, \"memurluk\")\n",
    "teknikservis=TeknikServis(\"nusret\", \"halıcı\", 700, \"teknik servis\")\n",
    "\n",
    "print(\"müdür sınıfı\")\n",
    "print(\"Adı: \", mudur.ad)\n",
    "print(\"Soyadı: \", mudur.soyad)\n",
    "print(\"Maaş: \", mudur.maas)\n",
    "print(\"Departman adı: \", mudur.departmanAdı)\n",
    "print(\"Ek prim: \", mudur.ek_prim)\n",
    "mudur.bilgiler()\n",
    "\n",
    "print(\"\\nmemur sınıfı\")\n",
    "print(\"Adı: \", memur.ad)\n",
    "print(\"Soyadı: \", memur.soyad)\n",
    "print(\"Maaş: \", memur.maas)\n",
    "print(\"Departman adı: \", memur.departmanAdı)"
   ]
  },
  {
   "cell_type": "code",
   "execution_count": 31,
   "id": "12545470",
   "metadata": {},
   "outputs": [
    {
     "name": "stdout",
     "output_type": "stream",
     "text": [
      "müdür sınıfı\n",
      "Adı:  nilgün\n",
      "Soyadı:  şengöz\n",
      "Maaş:  1000\n",
      "Departman adı:  müdürlük\n",
      "Ek prim:  500\n",
      "bu bölüm müdür alanıdır\n",
      "\n",
      "memur sınıfı\n",
      "Adı:  ali\n",
      "Soyadı:  dursun\n",
      "Maaş:  800\n",
      "Departman adı:  memurluk\n"
     ]
    }
   ],
   "source": [
    "class personel:\n",
    "    def __init__(self, ad, soyad,maas,departmanAdı):\n",
    "        self.ad=ad\n",
    "        self.soyad=soyad\n",
    "        self.maas=maas\n",
    "        self.departmanAdı=departmanAdı\n",
    "    \n",
    "    #yeni metot tanımlandı\n",
    "    def bilgiler(self):\n",
    "        print(\"bu bölüm personel alanıdır\")\n",
    "\n",
    "class Mudur (personel):\n",
    "    def __init__(self, ad, soyad, maas, departmanAdı, ek_prim):\n",
    "        super().__init__(ad, soyad, maas, departmanAdı)\n",
    "        self.ek_prim=ek_prim\n",
    "        \n",
    "    #yeni metot\n",
    "    def bilgiler(self):\n",
    "        print(\"bu bölüm müdür alanıdır\")\n",
    "        \n",
    "class Memur (personel):\n",
    "    pass\n",
    "\n",
    "class TeknikServis (personel):\n",
    "    pass\n",
    "\n",
    "mudur=Mudur(\"nilgün\", \"şengöz\", 1000, \"müdürlük\", 500)\n",
    "memur=Memur(\"ali\", \"dursun\", 800, \"memurluk\")\n",
    "teknikservis=TeknikServis(\"nusret\", \"halıcı\", 700, \"teknik servis\")\n",
    "\n",
    "print(\"müdür sınıfı\")\n",
    "print(\"Adı: \", mudur.ad)\n",
    "print(\"Soyadı: \", mudur.soyad)\n",
    "print(\"Maaş: \", mudur.maas)\n",
    "print(\"Departman adı: \", mudur.departmanAdı)\n",
    "print(\"Ek prim: \", mudur.ek_prim)\n",
    "mudur.bilgiler()\n",
    "\n",
    "print(\"\\nmemur sınıfı\")\n",
    "print(\"Adı: \", memur.ad)\n",
    "print(\"Soyadı: \", memur.soyad)\n",
    "print(\"Maaş: \", memur.maas)\n",
    "print(\"Departman adı: \", memur.departmanAdı)"
   ]
  },
  {
   "cell_type": "markdown",
   "id": "653af167",
   "metadata": {},
   "source": [
    "\"bilgiler()\" metodunu müdür sınıfında tekrar tanımladık. Bu sayede __personel__ sınıfındaki \"bilgiler()\" metodu iptal olmuş oldu."
   ]
  },
  {
   "cell_type": "markdown",
   "id": "f05c2ae1",
   "metadata": {},
   "source": [
    "# STACK, QUEUE ve DEQUE Örnek Soruları ve Çözümleri"
   ]
  },
  {
   "cell_type": "markdown",
   "id": "2f67f888",
   "metadata": {},
   "source": [
    "## Stack (Yığın) Örnekleri:"
   ]
  },
  {
   "cell_type": "markdown",
   "id": "39d52d6b",
   "metadata": {},
   "source": [
    "#### Soru: \n",
    "Verilen bir liste içerisindeki sayıları tersine çeviren bir Python fonksiyonu yazın. Ancak bu işlemi yaparken ekstra bir liste kullanmamaya çalışın ve sadece stack veri yapısını kullanın."
   ]
  },
  {
   "cell_type": "code",
   "execution_count": 32,
   "id": "49ae8278",
   "metadata": {},
   "outputs": [
    {
     "name": "stdout",
     "output_type": "stream",
     "text": [
      "Orjinal Liste: [1, 2, 3, 4, 5]\n",
      "Tersine Çevrilmiş Liste: [5, 4, 3, 2, 1]\n"
     ]
    }
   ],
   "source": [
    "def reverse_list_with_stack(lst):\n",
    "    stack = []\n",
    "    for item in lst:\n",
    "        stack.append(item)\n",
    "    reversed_list = []\n",
    "    while stack:\n",
    "        reversed_list.append(stack.pop())\n",
    "    return reversed_list\n",
    "\n",
    "# Örnek kullanım:\n",
    "my_list = [1, 2, 3, 4, 5]\n",
    "print(\"Orjinal Liste:\", my_list)\n",
    "print(\"Tersine Çevrilmiş Liste:\", reverse_list_with_stack(my_list))\n"
   ]
  },
  {
   "cell_type": "markdown",
   "id": "e9df2438",
   "metadata": {},
   "source": [
    "#### Soru:\n",
    "Bir işletim sistemi dosya yöneticisi uygulaması yazıyorsunuz. Klasörlerin ve dosyaların hiyerarşik olarak düzenlendiği bir yapıda, verilen bir dosya yolunun (path) geçerli olup olmadığını kontrol eden bir Python fonksiyonu yazın. Geçerli bir dosya yolunun, yalnızca alfabetik karakterler, sayılar ve '.' (nokta) ve '/' (karakter) içermesi gerektiğini varsayabilirsiniz. Örneğin, '/home/user/documents/file.txt' geçerli bir dosya yolu iken, '/home//user' geçerli değildir."
   ]
  },
  {
   "cell_type": "code",
   "execution_count": 42,
   "id": "25257ebf",
   "metadata": {},
   "outputs": [
    {
     "name": "stdout",
     "output_type": "stream",
     "text": [
      "True\n",
      "False\n",
      "True\n"
     ]
    }
   ],
   "source": [
    "class PathValidator:\n",
    "    def __init__(self, path):\n",
    "        self.path = path\n",
    "        self.invalid_characters = set(['\\\\', ':', '*', '?', '\"', '<', '>', '|'])\n",
    "\n",
    "    def is_valid(self):\n",
    "        stack = []\n",
    "        for char in self.path:\n",
    "            if char in self.invalid_characters:\n",
    "                return False\n",
    "            elif char == '/':\n",
    "                if stack and stack[-1] == '/':  # Ardışık iki '/' karakteri varsa geçersiz\n",
    "                    return False\n",
    "                elif not stack or stack[-1] == '.':\n",
    "                    return False\n",
    "                else:\n",
    "                    stack.append(char)\n",
    "            elif char == '.':\n",
    "                if not stack or stack[-1] == '/':  # Dosya adı '.' ile başlayamaz\n",
    "                    return False\n",
    "                stack.append(char)\n",
    "            else:\n",
    "                stack.append(char)\n",
    "        return True\n",
    "\n",
    "# Örnek kullanım 1:\n",
    "path1 = \"home/user/documents/file.txt\"\n",
    "validator1 = PathValidator(path1)\n",
    "print(validator1.is_valid())\n",
    "\n",
    "# Örnek kullanım 2:\n",
    "path2 = \"/home//user\"\n",
    "validator2 = PathValidator(path2)\n",
    "print(validator2.is_valid())\n",
    "\n",
    "# Örnek kullanım 3:\n",
    "path3 = \"home/user/file.txt\"\n",
    "validator3 = PathValidator(path3)\n",
    "print(validator3.is_valid())"
   ]
  },
  {
   "cell_type": "markdown",
   "id": "297c4453",
   "metadata": {},
   "source": [
    "Bu çözümde, PathValidator adında bir sınıf oluşturulmuş ve dosya yolu geçerliliğini kontrol eden bir is_valid metodu tanımlanmıştır. Bu yöntem, Nesne Tabanlı Programalama prensiplerine uygun olarak bir sınıf içinde paketlenir. Bu şekilde, kodu daha modüler ve daha kolay anlaşılabilir hale getirmekteyiz."
   ]
  },
  {
   "cell_type": "markdown",
   "id": "b1be4a1c",
   "metadata": {},
   "source": [
    "## Queue (Kuyruk) Örnekleri:"
   ]
  },
  {
   "cell_type": "markdown",
   "id": "d8212690",
   "metadata": {},
   "source": [
    "### Soru:\n",
    "Bir dizi sayı ve bir hedef sayı verildiğinde, dizideki iki sayının toplamının hedef sayıya eşit olduğu durumları bulan bir Python fonksiyonu yazın."
   ]
  },
  {
   "cell_type": "code",
   "execution_count": 43,
   "id": "1a6f92e5",
   "metadata": {},
   "outputs": [
    {
     "name": "stdout",
     "output_type": "stream",
     "text": [
      "[(3, 7), (1, 9)]\n",
      "[(4, 6)]\n"
     ]
    }
   ],
   "source": [
    "def find_pairs(nums, target):\n",
    "    seen = {}\n",
    "    pairs = []\n",
    "    for num in nums:\n",
    "        complement = target - num\n",
    "        if complement in seen:\n",
    "            pairs.append((complement, num))\n",
    "        seen[num] = True\n",
    "    return pairs\n",
    "\n",
    "# Örnek kullanım:\n",
    "print(find_pairs([1, 3, 7, 9, 2], 10))  # [(1, 9), (3, 7)]\n",
    "print(find_pairs([4, 5, 6, 8], 10))     # [(4, 6)]\n"
   ]
  },
  {
   "cell_type": "markdown",
   "id": "4043b871",
   "metadata": {},
   "source": [
    "### Soru:\n",
    "Bir yemek siparişi uygulaması yazıyorsunuz. Kullanıcılar, belirli restoranlardan yemek siparişi verebilirler. Ancak her restoranın sadece belirli bir kapasitesi vardır ve aynı anda sadece belirli sayıda sipariş alabilirler. Kullanıcılar, sipariş verdiklerinde kuyruğa eklenirler ve sıralarına göre sırası geldiğinde siparişleri alınır. Restoranlar, sıradaki siparişi alır almaz bir uyarı gönderirler. Bu durumda, verilen restoran kapasitelerini ve siparişlerin sırasını takip etmek için hangi veri yapısı kullanılabilir? Uygun çözümü Python programlama dili kullanarak yazınız."
   ]
  },
  {
   "cell_type": "markdown",
   "id": "fc83c065",
   "metadata": {},
   "source": [
    "Bu sorunu çözmek için, her restoran için ayrı bir kuyruk oluşturabiliriz. Kuyruklar, restoranların kapasitesini ve siparişlerin sırasını takip etmek için kullanılacaktır. Sipariş veren kullanıcılar kuyruğa eklenir ve sıradaki siparişin alınması durumunda kuyruktan çıkarılırlar."
   ]
  },
  {
   "cell_type": "code",
   "execution_count": 47,
   "id": "71e49edd",
   "metadata": {},
   "outputs": [
    {
     "name": "stdout",
     "output_type": "stream",
     "text": [
      "Pizza siparişi restoran kuyruğuna eklendi.\n",
      "Burger siparişi restoran kuyruğuna eklendi.\n",
      "Restoran kuyruğu dolu. Pasta siparişi eklenemedi.\n",
      "Salata siparişi restoran kuyruğuna eklendi.\n",
      "Çorba siparişi restoran kuyruğuna eklendi.\n",
      "Salata siparişi verildi.\n",
      "Çorba siparişi verildi.\n",
      "Restoran kuyruğunda sipariş yok.\n"
     ]
    }
   ],
   "source": [
    "class Restoran:\n",
    "    def __init__(self, kapasite):\n",
    "        self.kapasite = kapasite\n",
    "        self.siparis_kuyrugu = []\n",
    "\n",
    "    def siparis_ekle(self, siparis):\n",
    "        if len(self.siparis_kuyrugu) < self.kapasite:\n",
    "            self.siparis_kuyrugu.append(siparis)\n",
    "            print(f\"{siparis} siparişi restoran kuyruğuna eklendi.\")\n",
    "        else:\n",
    "            print(f\"Restoran kuyruğu dolu. {siparis} siparişi eklenemedi.\")\n",
    "\n",
    "    def siparis_ver(self):\n",
    "        if self.siparis_kuyrugu:\n",
    "            verilen_siparis = self.siparis_kuyrugu.pop(0)\n",
    "            print(f\"{verilen_siparis} siparişi verildi.\")\n",
    "        else:\n",
    "            print(\"Restoran kuyruğunda sipariş yok.\")\n",
    "\n",
    "# Örnek kullanım:\n",
    "restoran1 = Restoran(2)\n",
    "restoran2 = Restoran(3)\n",
    "\n",
    "restoran1.siparis_ekle(\"Pizza\")\n",
    "restoran1.siparis_ekle(\"Burger\")\n",
    "restoran1.siparis_ekle(\"Pasta\")  # Restoran kuyruğu dolu. Pasta siparişi eklenemedi.\n",
    "\n",
    "restoran2.siparis_ekle(\"Salata\")\n",
    "restoran2.siparis_ekle(\"Çorba\")\n",
    "restoran2.siparis_ver()  # Salata siparişi verildi.\n",
    "restoran2.siparis_ver()  # Çorba siparişi verildi.\n",
    "restoran2.siparis_ver()  # Restoran kuyruğunda sipariş yok."
   ]
  },
  {
   "cell_type": "markdown",
   "id": "dc79f431",
   "metadata": {},
   "source": [
    "Bu çözümde, her restoran için bir Restoran sınıfı tanımlanmıştır. Restoranların kapasitesi ve siparişlerin kuyruğunu tutmak için bir liste kullanılmıştır. siparis_ekle yöntemi, bir siparişi kuyruğa eklerken, siparis_ver yöntemi, sıradaki siparişi almak için kullanılır."
   ]
  },
  {
   "cell_type": "markdown",
   "id": "5937132d",
   "metadata": {},
   "source": [
    "## Deque Örnekleri:"
   ]
  },
  {
   "cell_type": "markdown",
   "id": "8df08d13",
   "metadata": {},
   "source": [
    "### Soru:\n",
    "Bir banka ATM'sinde müşteri hizmetine yardımcı olacak bir Python programı yazmanız gerekiyor. ATM'de 3 farklı işlem yapılabilir: para yatırma, para çekme ve bakiye sorgulama. Kullanıcılar istedikleri işlemi seçebilirler. Ancak ATM'de aynı anda yalnızca bir müşteri hizmet alabilir. Birden fazla müşteri işlem yapmak isteyebilir, ancak ATM sadece bir müşteriyle ilgilenebilir. Müşterilerin işlem sırasını takip etmek için bir queue kullanılmalıdır. Bu durumda, bir müşteri geldiğinde, o müşterinin sıraya eklenmesi ve sıradaki müşterinin işlemlerinin tamamlanmasından sonra sıradaki müşterinin hizmete alınması gerekir.\n",
    "\n",
    "Bu örnekte, bir queue veri yapısını kullanarak müşterilerin sırasını takip edip, her müşterinin işlemini gerçekleştirebiliriz. Müşterilerin işlemleri tamamlandığında, sıradaki müşteriye geçilir. Bu şekilde, ATM'nin adil ve düzenli bir şekilde işlem yapması sağlanır."
   ]
  },
  {
   "cell_type": "code",
   "execution_count": 46,
   "id": "c44be484",
   "metadata": {},
   "outputs": [
    {
     "name": "stdout",
     "output_type": "stream",
     "text": [
      "Customer 1 serviste.\n",
      "Customer 2 serviste.\n",
      "Customer 3 serviste.\n",
      "sırada hiç müsteri yok.\n"
     ]
    }
   ],
   "source": [
    "from collections import deque\n",
    "\n",
    "class ATM:\n",
    "    def __init__(self):\n",
    "        self.queue = deque()\n",
    "\n",
    "    def add_customer(self, customer):\n",
    "        self.queue.append(customer)\n",
    "\n",
    "    def serve_customer(self):\n",
    "        if self.queue:\n",
    "            customer = self.queue.popleft()\n",
    "            print(f\"{customer} serviste.\")\n",
    "        else:\n",
    "            print(\"sırada hiç müsteri yok.\")\n",
    "\n",
    "# Örnek kullanım:\n",
    "atm = ATM()\n",
    "atm.add_customer(\"Customer 1\")\n",
    "atm.add_customer(\"Customer 2\")\n",
    "atm.add_customer(\"Customer 3\")\n",
    "\n",
    "atm.serve_customer()  # Customer 1 serviste.\n",
    "atm.serve_customer()  # Customer 2 serviste.\n",
    "atm.serve_customer()  # Customer 3 serviste.\n",
    "atm.serve_customer()  # sırada hiç müsteri yok."
   ]
  },
  {
   "cell_type": "markdown",
   "id": "5d66f4be",
   "metadata": {},
   "source": [
    "### Soru:\n",
    "Bir web tarayıcısı geçmişi yöneten bir Python programı yazmanız isteniyor. Kullanıcılar, ziyaret ettikleri web sitelerinin URL'lerini ekleyebilmeli ve en son ziyaret ettikleri URL'leri geri alabilmelidir. Bu işlemi gerçekleştirmek için hangi veri yapısını kullanırsınız?"
   ]
  },
  {
   "cell_type": "markdown",
   "id": "be3e8844",
   "metadata": {},
   "source": [
    "Bu sorunu çözmek için, deque (double-ended queue) veri yapısını kullanabiliriz. deque, hem baştan hem de sondan ekleme ve çıkarma işlemlerini destekler, bu da web tarayıcısı geçmişi gibi durumlarda son ziyaret edilen URL'yi hızlıca geri almak için idealdir."
   ]
  },
  {
   "cell_type": "code",
   "execution_count": 48,
   "id": "4c190d76",
   "metadata": {},
   "outputs": [
    {
     "name": "stdout",
     "output_type": "stream",
     "text": [
      "https://www.google.com adresi ziyaret edildi.\n",
      "https://www.wikipedia.org adresi ziyaret edildi.\n",
      "https://www.openai.com adresi ziyaret edildi.\n",
      "Geri alındı: https://www.openai.com\n",
      "Geri alındı: https://www.wikipedia.org\n",
      "Geri alındı: https://www.google.com\n",
      "Geri alınacak bir şey yok.\n"
     ]
    }
   ],
   "source": [
    "from collections import deque\n",
    "\n",
    "class WebTarayici:\n",
    "    def __init__(self):\n",
    "        self.gecmis = deque()\n",
    "\n",
    "    def ziyaret_et(self, url):\n",
    "        self.gecmis.append(url)\n",
    "        print(f\"{url} adresi ziyaret edildi.\")\n",
    "\n",
    "    def geri_al(self):\n",
    "        if self.gecmis:\n",
    "            son_ziyaret = self.gecmis.pop()\n",
    "            print(f\"Geri alındı: {son_ziyaret}\")\n",
    "        else:\n",
    "            print(\"Geri alınacak bir şey yok.\")\n",
    "\n",
    "# Örnek kullanım:\n",
    "tarayici = WebTarayici()\n",
    "tarayici.ziyaret_et(\"https://www.google.com\")\n",
    "tarayici.ziyaret_et(\"https://www.wikipedia.org\")\n",
    "tarayici.ziyaret_et(\"https://www.openai.com\")\n",
    "\n",
    "tarayici.geri_al()  # Geri alındı: https://www.openai.com\n",
    "tarayici.geri_al()  # Geri alındı: https://www.wikipedia.org\n",
    "tarayici.geri_al()  # Geri alındı: https://www.google.com\n",
    "tarayici.geri_al()  # Geri alınacak bir şey yok."
   ]
  },
  {
   "cell_type": "markdown",
   "id": "c765ce53",
   "metadata": {},
   "source": [
    "Bu çözümde, WebTarayici adında bir sınıf oluşturulmuş ve bu sınıfın içinde gecmis adında bir deque tanımlanmıştır. ziyaret_et yöntemi, yeni ziyaret edilen URL'yi deque'ye eklerken, geri_al yöntemi, en son ziyaret edilen URL'yi deque'den geri alır. Bu şekilde, deque veri yapısı kullanılarak web tarayıcısı geçmişi yönetilmiş olur."
   ]
  },
  {
   "cell_type": "code",
   "execution_count": null,
   "id": "e2eefe63",
   "metadata": {},
   "outputs": [],
   "source": []
  }
 ],
 "metadata": {
  "kernelspec": {
   "display_name": "Python 3 (ipykernel)",
   "language": "python",
   "name": "python3"
  },
  "language_info": {
   "codemirror_mode": {
    "name": "ipython",
    "version": 3
   },
   "file_extension": ".py",
   "mimetype": "text/x-python",
   "name": "python",
   "nbconvert_exporter": "python",
   "pygments_lexer": "ipython3",
   "version": "3.11.5"
  }
 },
 "nbformat": 4,
 "nbformat_minor": 5
}
