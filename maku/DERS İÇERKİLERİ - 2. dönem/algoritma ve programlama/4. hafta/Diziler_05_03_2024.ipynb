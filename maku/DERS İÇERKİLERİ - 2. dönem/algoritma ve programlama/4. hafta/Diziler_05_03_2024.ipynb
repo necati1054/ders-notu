{
 "cells": [
  {
   "cell_type": "code",
   "execution_count": 6,
   "id": "c23e094b",
   "metadata": {},
   "outputs": [
    {
     "name": "stdout",
     "output_type": "stream",
     "text": [
      "Öğe 0: 1 - Bellek Adresi: 140724699239208\n",
      "Öğe 1: 2 - Bellek Adresi: 140724699239240\n",
      "Öğe 2: 3 - Bellek Adresi: 140724699239272\n",
      "Öğe 3: 4 - Bellek Adresi: 140724699239304\n",
      "Öğe 4: 5 - Bellek Adresi: 140724699239336\n"
     ]
    }
   ],
   "source": [
    "# Liste oluşturma\n",
    "my_list = [1, 2, 3, 4, 5]\n",
    "\n",
    "# Liste öğelerini yazdırma\n",
    "for i in range(len(my_list)):\n",
    "    print(f\"Öğe {i}: {my_list[i]} - Bellek Adresi: {id(my_list[i])}\")"
   ]
  },
  {
   "cell_type": "code",
   "execution_count": 13,
   "id": "249c708c",
   "metadata": {},
   "outputs": [
    {
     "name": "stdout",
     "output_type": "stream",
     "text": [
      "array('i', [1, 2, 3, 4, 5])\n",
      "1\n",
      "3\n"
     ]
    }
   ],
   "source": [
    "from array import array #array modülünü içe aktarma\n",
    "# 'i' (signed integer) türünde bir array oluşturma\n",
    "my_array = array('i',[1, 2, 3, 4, 5])\n",
    "print(my_array)\n",
    "print(my_array[0])  # İlk öğe\n",
    "print(my_array[2])  # Üçüncü öğe"
   ]
  },
  {
   "cell_type": "code",
   "execution_count": 16,
   "id": "ec81c9b5",
   "metadata": {},
   "outputs": [
    {
     "name": "stdout",
     "output_type": "stream",
     "text": [
      "array('d', [20.0, 35.0, 55.0, 65.0])\n"
     ]
    }
   ],
   "source": [
    "import array as arr\n",
    "\n",
    "myArr = arr.array('d', [20, 35, 55, 65])\n",
    "\n",
    "print(myArr)\n"
   ]
  },
  {
   "cell_type": "code",
   "execution_count": 55,
   "id": "6b248f25",
   "metadata": {},
   "outputs": [
    {
     "name": "stdout",
     "output_type": "stream",
     "text": [
      "array('i', [1, 2, 10, 4, 5])\n"
     ]
    }
   ],
   "source": [
    "from array import array\n",
    "my_array = array('i',[1, 2, 3, 4, 5])\n",
    "my_array[2] = 10\n",
    "print(my_array)"
   ]
  },
  {
   "cell_type": "code",
   "execution_count": 56,
   "id": "b204e195",
   "metadata": {},
   "outputs": [
    {
     "name": "stdout",
     "output_type": "stream",
     "text": [
      "array('i', [1, 2, 10, 4, 5, 6])\n",
      "array('i', [1, 2, 8, 10, 4, 5, 6])\n"
     ]
    }
   ],
   "source": [
    "# Listenin sonuna öğe ekleme\n",
    "my_array.append(6)\n",
    "print(my_array)\n",
    "\n",
    "# Belirli bir indekse öğe ekleme\n",
    "my_array.insert(2, 8)\n",
    "print(my_array)"
   ]
  },
  {
   "cell_type": "code",
   "execution_count": 57,
   "id": "b9373013",
   "metadata": {},
   "outputs": [
    {
     "name": "stdout",
     "output_type": "stream",
     "text": [
      "0\n"
     ]
    }
   ],
   "source": [
    "print(my_array.index(1))"
   ]
  },
  {
   "cell_type": "code",
   "execution_count": 58,
   "id": "1afe7ae7",
   "metadata": {},
   "outputs": [
    {
     "name": "stdout",
     "output_type": "stream",
     "text": [
      "array('i', [1, 2, 8, 10, 5, 6])\n",
      "6\n",
      "array('i', [1, 2, 8, 10, 5])\n"
     ]
    }
   ],
   "source": [
    "my_array.remove(4)\n",
    "print(my_array)  \n",
    "\n",
    "popped_item = my_array.pop()\n",
    "print(popped_item)  \n",
    "print(my_array)     \n"
   ]
  },
  {
   "cell_type": "code",
   "execution_count": 59,
   "id": "fe3cca24",
   "metadata": {},
   "outputs": [
    {
     "name": "stdout",
     "output_type": "stream",
     "text": [
      "[5, 4, 3, 2, 1]\n"
     ]
    }
   ],
   "source": [
    "my_list = [1, 2, 3, 4, 5]\n",
    "\n",
    "# Liste öğelerini tersine çevirme\n",
    "my_list.reverse()\n",
    "\n",
    "print(my_list) \n"
   ]
  },
  {
   "cell_type": "code",
   "execution_count": 60,
   "id": "662dba07",
   "metadata": {},
   "outputs": [
    {
     "name": "stdout",
     "output_type": "stream",
     "text": [
      "[1, 2, 3, 4, 5, 6]\n"
     ]
    }
   ],
   "source": [
    "my_list = [1, 2, 3]\n",
    "another_list = [4, 5, 6]\n",
    "\n",
    "# Bir listenin sonuna başka bir listenin öğelerini eklemek\n",
    "my_list.extend(another_list)\n",
    "\n",
    "print(my_list)  \n"
   ]
  },
  {
   "cell_type": "code",
   "execution_count": 61,
   "id": "e24f7ae4",
   "metadata": {},
   "outputs": [
    {
     "name": "stdout",
     "output_type": "stream",
     "text": [
      "[1, 1, 2, 3, 4, 5, 6, 9]\n"
     ]
    }
   ],
   "source": [
    "my_list = [3, 1, 4, 1, 5, 9, 2, 6]\n",
    "\n",
    "# Listeyi artan sıraya göre sıralama\n",
    "my_list.sort()\n",
    "\n",
    "print(my_list) \n"
   ]
  },
  {
   "cell_type": "code",
   "execution_count": 62,
   "id": "ae3bff20",
   "metadata": {},
   "outputs": [
    {
     "name": "stdout",
     "output_type": "stream",
     "text": [
      "[9, 6, 5, 4, 3, 2, 1, 1]\n"
     ]
    }
   ],
   "source": [
    "my_list = [3, 1, 4, 1, 5, 9, 2, 6]\n",
    "\n",
    "# Listeyi azalan sıraya göre sıralama\n",
    "my_list.sort(reverse=True)\n",
    "\n",
    "print(my_list) \n"
   ]
  },
  {
   "cell_type": "code",
   "execution_count": null,
   "id": "2e1bf9af",
   "metadata": {},
   "outputs": [],
   "source": []
  }
 ],
 "metadata": {
  "kernelspec": {
   "display_name": "Python 3 (ipykernel)",
   "language": "python",
   "name": "python3"
  },
  "language_info": {
   "codemirror_mode": {
    "name": "ipython",
    "version": 3
   },
   "file_extension": ".py",
   "mimetype": "text/x-python",
   "name": "python",
   "nbconvert_exporter": "python",
   "pygments_lexer": "ipython3",
   "version": "3.11.5"
  }
 },
 "nbformat": 4,
 "nbformat_minor": 5
}
