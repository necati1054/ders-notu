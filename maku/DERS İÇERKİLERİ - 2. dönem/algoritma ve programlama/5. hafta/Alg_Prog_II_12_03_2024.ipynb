{
 "cells": [
  {
   "cell_type": "markdown",
   "id": "2d7fa665",
   "metadata": {},
   "source": [
    "Python'da liste oluşturmak için köşeli parantez [] kullanılır. Bir liste, virgülle ayrılmış öğelerden oluşur."
   ]
  },
  {
   "cell_type": "code",
   "execution_count": 1,
   "id": "3034c9a9",
   "metadata": {},
   "outputs": [],
   "source": [
    "my_list = [1, 2, 3, 4, 5]"
   ]
  },
  {
   "cell_type": "markdown",
   "id": "c08a53bc",
   "metadata": {},
   "source": [
    "Listeler, farklı veri tiplerini içerebilir. Yani, bir listede sayılar, metinler, diğer listeler ve hatta farklı veri yapıları bulunabilir."
   ]
  },
  {
   "cell_type": "code",
   "execution_count": 2,
   "id": "d9d1100d",
   "metadata": {},
   "outputs": [],
   "source": [
    "mixed_list = [1, 'a', 3.14, [4, 5, 6]]"
   ]
  },
  {
   "cell_type": "markdown",
   "id": "15207a3a",
   "metadata": {},
   "source": [
    "Liste elemanlarına erişmek için indeks kullanılır. Python'da indeksler 0'dan başlar."
   ]
  },
  {
   "cell_type": "code",
   "execution_count": 4,
   "id": "5c125a94",
   "metadata": {},
   "outputs": [
    {
     "name": "stdout",
     "output_type": "stream",
     "text": [
      "10\n",
      "50\n"
     ]
    }
   ],
   "source": [
    "my_list = [10, 20, 30, 40, 50]\n",
    "print(my_list[0])  # İlk elemanı yazdırır\n",
    "print(my_list[-1]) # Son elemanı yazdırır"
   ]
  },
  {
   "cell_type": "markdown",
   "id": "18740cdd",
   "metadata": {},
   "source": [
    "Python'da dilimleme operatörü \" : \" kullanılarak liste içinden bir alt küme alınabilir.\n"
   ]
  },
  {
   "cell_type": "code",
   "execution_count": 5,
   "id": "21d78289",
   "metadata": {},
   "outputs": [
    {
     "name": "stdout",
     "output_type": "stream",
     "text": [
      "[2, 3]\n"
     ]
    }
   ],
   "source": [
    "my_list = [1, 2, 3, 4, 5]\n",
    "print(my_list[1:3])  # İkinci ve üçüncü elemanları alır"
   ]
  },
  {
   "cell_type": "markdown",
   "id": "a046105c",
   "metadata": {},
   "source": [
    "Listeler değiştirilebilir (mutable) olduğundan, elemanlarını güncelleyebilir veya değiştirebilirsiniz."
   ]
  },
  {
   "cell_type": "code",
   "execution_count": 6,
   "id": "04a6edc5",
   "metadata": {},
   "outputs": [
    {
     "name": "stdout",
     "output_type": "stream",
     "text": [
      "[10, 2, 3]\n"
     ]
    }
   ],
   "source": [
    "my_list = [1, 2, 3]\n",
    "my_list[0] = 10  # İlk elemanı günceller\n",
    "print(my_list)   # Çıktı\n"
   ]
  },
  {
   "cell_type": "markdown",
   "id": "04dc4338",
   "metadata": {},
   "source": [
    "Python listeleri için bir dizi önceden tanımlanmış metod bulunmaktadır. Bunlar arasında append(), remove(), pop(), insert(), sort() ve reverse() gibi sık kullanılanlar bulunmaktadır."
   ]
  },
  {
   "cell_type": "code",
   "execution_count": 7,
   "id": "20cf6253",
   "metadata": {},
   "outputs": [
    {
     "name": "stdout",
     "output_type": "stream",
     "text": [
      "[1, 2, 3, 4]\n"
     ]
    }
   ],
   "source": [
    "my_list = [1, 2, 3]\n",
    "my_list.append(4)  # Listenin sonuna 4 ekler\n",
    "print(my_list)     # Çıktı"
   ]
  },
  {
   "cell_type": "markdown",
   "id": "31a0503b",
   "metadata": {},
   "source": [
    "Liste İfadeleri (List Comprehensions)\n",
    "\n",
    "Python'da liste ifadeleri, listeleri oluşturmak için kısa ve okunabilir bir yol sunar. Liste ifadeleri, döngü ve koşullarla birlikte kullanılarak listeleri kolayca oluşturmanıza olanak tanır. Python'da listelerin kullanımı oldukça esnek ve güçlüdür. Bu nedenle, Python programlamada sıkça karşınıza çıkacak ve yaygın olarak kullanacağınız bir veri yapısıdır. Listeler, veri işleme, veri yapıları oluşturma, veri analizi ve daha pek çok alanda kullanılmaktadır."
   ]
  },
  {
   "cell_type": "code",
   "execution_count": 8,
   "id": "1cc466bb",
   "metadata": {},
   "outputs": [
    {
     "name": "stdout",
     "output_type": "stream",
     "text": [
      "[0, 1, 4, 9, 16, 25, 36, 49, 64, 81]\n"
     ]
    }
   ],
   "source": [
    "squares = [x**2 for x in range(10)]\n",
    "print(squares)  # 0'dan 9'a kadar olan sayıların karelerini içeren bir liste"
   ]
  },
  {
   "cell_type": "code",
   "execution_count": 11,
   "id": "0173255e",
   "metadata": {},
   "outputs": [],
   "source": [
    "# Python'da liste örnekleri\n",
    " \n",
    "# Boş liste oluşturmak\n",
    "empty_List = []\n",
    " \n",
    "# Tamsayı listesi oluşturmak\n",
    "integer_List = [26, 12, 97, 8]\n",
    " \n",
    "# Float sayı listesi oluşturmak\n",
    "float_List = [5.8, 12.0, 9.7, 10.8]\n",
    "\n",
    "# Karakter listesi oluşturmak\n",
    "string_List = [\"Interviewbit\", \"Preparation\", \"India\"]\n",
    " \n",
    "# Farklı veri tiplerini içeren bir liste oluşturmak\n",
    "List = [1, \"Interviewbit\", 9.5, 'D']\n",
    " \n",
    "# Birden fazla tekrarlanan öğelere ait bir liste oluşturmak\n",
    "duplicate_List = [1, 2, 1, 1, 3,3, 5, 8, 8]\n",
    "\n",
    "# İç içe/gömülü bir liste oluşturmak\n",
    "nested_List = [[6, 2, 8], [1, \"Interviewbit\", 3.5], \"preparation\"]\n",
    "\n"
   ]
  },
  {
   "cell_type": "code",
   "execution_count": 12,
   "id": "8ac21f12",
   "metadata": {},
   "outputs": [
    {
     "name": "stdout",
     "output_type": "stream",
     "text": [
      "Pozitif indeks değerlerine erişildi.\n",
      "6\n",
      "8\n",
      "Negatif indeks değerlerine erişildi.\n",
      "8\n",
      "3\n"
     ]
    }
   ],
   "source": [
    "My_List = [3, 4, 6, 10, 8]\n",
    " \n",
    "# Listedeki öğelere pozitif indeksleme ile erişme\n",
    "print(\"Pozitif indeks değerlerine erişildi.\")\n",
    "print(My_List[2])\n",
    "print(My_List[4])\n",
    " \n",
    "# Listedeki öğelere negatif indeksleme ile erişme\n",
    "print(\"Negatif indeks değerlerine erişildi.\")\n",
    "print(My_List[-1])\n",
    "print(My_List[-5])\n"
   ]
  },
  {
   "cell_type": "code",
   "execution_count": 14,
   "id": "62874811",
   "metadata": {},
   "outputs": [
    {
     "name": "stdout",
     "output_type": "stream",
     "text": [
      "2\n",
      "Röportaj\n"
     ]
    }
   ],
   "source": [
    "# İç içe listeler\n",
    "nested_List = [[6, 2, 8], [1, 3.5, \"Röportaj\"], \"hazırlık\"]\n",
    "print(nested_List[0][1])\n",
    "print(nested_List[1][2])\n"
   ]
  },
  {
   "cell_type": "code",
   "execution_count": 16,
   "id": "b1ce25c2",
   "metadata": {},
   "outputs": [
    {
     "name": "stdout",
     "output_type": "stream",
     "text": [
      "[3, 4, 6, 10, 8, 5]\n",
      "[3, 4, 6, 7, 8, 5]\n",
      "[3, 4, 6, 7, 8, 15]\n"
     ]
    }
   ],
   "source": [
    "My_List = [3, 4, 6, 10, 8, 5]\n",
    "print(My_List)\n",
    "# indeks 3'teki değer değiştiriliyor.\n",
    "My_List[3] = 7\n",
    "print(My_List)\n",
    "# -1 indeksinde yer alan değer değiştiriliyor\n",
    "My_List[-1] = 15\n",
    "print(My_List)"
   ]
  },
  {
   "cell_type": "code",
   "execution_count": 18,
   "id": "dfc0abf8",
   "metadata": {},
   "outputs": [
    {
     "name": "stdout",
     "output_type": "stream",
     "text": [
      "['a', 'e']\n",
      "['a', 'e', 'i']\n",
      "['a', 'e', 'i', 'o', 'u']\n",
      "[1, 7, 5, 6, 9]\n"
     ]
    }
   ],
   "source": [
    "vowels = ['a', 'e']\n",
    "print(vowels)\n",
    "# Listeye eleman ekleme\n",
    "vowels.append('i')\n",
    "print(vowels)\n",
    "# listeyi genişletme\n",
    "vowels.extend(['o', 'u'])\n",
    "print(vowels)\n",
    "# Belirli bir indekse eleman sokmak\n",
    "Integers = [1, 5, 6, 9]\n",
    "Integers.insert(1,7)\n",
    "print(Integers)\n"
   ]
  },
  {
   "cell_type": "code",
   "execution_count": 19,
   "id": "7ad60a03",
   "metadata": {},
   "outputs": [
    {
     "name": "stdout",
     "output_type": "stream",
     "text": [
      "[1, 2, 3, 4, 5, 6, 7, 8]\n",
      "[1, 2, 3, 5, 6, 7, 8]\n"
     ]
    },
    {
     "ename": "NameError",
     "evalue": "name 'my_List' is not defined",
     "output_type": "error",
     "traceback": [
      "\u001b[1;31m---------------------------------------------------------------------------\u001b[0m",
      "\u001b[1;31mNameError\u001b[0m                                 Traceback (most recent call last)",
      "Cell \u001b[1;32mIn[19], line 9\u001b[0m\n\u001b[0;32m      7\u001b[0m \u001b[38;5;28;01mdel\u001b[39;00m my_List\n\u001b[0;32m      8\u001b[0m \u001b[38;5;66;03m# print() kodu bize hata mesajı verecek\u001b[39;00m\n\u001b[1;32m----> 9\u001b[0m \u001b[38;5;28mprint\u001b[39m(my_List)\n",
      "\u001b[1;31mNameError\u001b[0m: name 'my_List' is not defined"
     ]
    }
   ],
   "source": [
    "my_List = [1, 2, 3, 4, 5, 6, 7, 8]\n",
    "print(my_List)\n",
    "# Listedeki elemanın silinmesi\n",
    "del my_List[3]\n",
    "print(my_List)\n",
    "# Tüm listenin silinmesi\n",
    "del my_List\n",
    "# print() kodu bize hata mesajı verecek\n",
    "print(my_List)\n"
   ]
  },
  {
   "cell_type": "code",
   "execution_count": 22,
   "id": "1e969822",
   "metadata": {},
   "outputs": [
    {
     "name": "stdout",
     "output_type": "stream",
     "text": [
      "[1, 2, 3, 4, 5, 6, 7, 8, 9]\n",
      "[1, 2, 3, 5, 6, 7, 8, 9]\n",
      "2\n",
      "[1, 3, 5, 6, 7, 8, 9]\n",
      "9\n",
      "[1, 3, 5, 6, 7, 8]\n",
      "[]\n"
     ]
    }
   ],
   "source": [
    "my_List = [1, 2, 3, 4, 5, 6, 7, 8, 9]\n",
    "print(my_List)\n",
    "# remove metodu kullanarak öğrenin silinmesi\n",
    "my_List.remove(4)\n",
    "print(my_List)\n",
    "# pop metodu kullanarak öğrenin silinmesi\n",
    "print(my_List.pop(1))\n",
    "print(my_List)\n",
    "# herhangi bir indeks belirtilmeden pop() methodu kullanımı\n",
    "print(my_List.pop())\n",
    "print(my_List)\n",
    "# clear() methodu kullanımı\n",
    "my_List.clear()\n",
    "print(my_List)\n"
   ]
  },
  {
   "cell_type": "code",
   "execution_count": 23,
   "id": "032354d3",
   "metadata": {},
   "outputs": [
    {
     "name": "stdout",
     "output_type": "stream",
     "text": [
      "[1, 2, 3, 4, 5, 6, 7, 8]\n"
     ]
    }
   ],
   "source": [
    "List1 = [1, 2, 3, 4] \n",
    "List2 = [5, 6, 7, 8]\n",
    "concat_List = List1 + List2\n",
    "print(concat_List)\n"
   ]
  },
  {
   "cell_type": "code",
   "execution_count": 24,
   "id": "c23d50bb",
   "metadata": {},
   "outputs": [
    {
     "name": "stdout",
     "output_type": "stream",
     "text": [
      "[1, 2, 3, 4, 1, 2, 3, 4]\n"
     ]
    }
   ],
   "source": [
    "my_List = [1, 2, 3, 4] \n",
    "print(my_List*2)\n"
   ]
  },
  {
   "cell_type": "code",
   "execution_count": 25,
   "id": "9f8975dc",
   "metadata": {},
   "outputs": [
    {
     "name": "stdout",
     "output_type": "stream",
     "text": [
      "True\n",
      "False\n",
      "True\n"
     ]
    }
   ],
   "source": [
    "my_List = [1, 2, 3, 4, 5, 6] \n",
    "print(3 in my_List)\n",
    "print(10 in my_List)\n",
    "print(10 not in my_List)\n"
   ]
  },
  {
   "cell_type": "code",
   "execution_count": 26,
   "id": "368fe1d6",
   "metadata": {},
   "outputs": [
    {
     "name": "stdout",
     "output_type": "stream",
     "text": [
      "1\n",
      "2\n",
      "3\n",
      "4\n",
      "5\n"
     ]
    }
   ],
   "source": [
    "my_List = [1, 2, 3, 4, 5] \n",
    "for n in my_List:\n",
    "      print(n)\n"
   ]
  },
  {
   "cell_type": "code",
   "execution_count": 27,
   "id": "81f1f244",
   "metadata": {},
   "outputs": [
    {
     "name": "stdout",
     "output_type": "stream",
     "text": [
      "5\n"
     ]
    }
   ],
   "source": [
    "my_List = [1, 2, 3, 4, 5]\n",
    "print(len(my_List))\n"
   ]
  },
  {
   "cell_type": "code",
   "execution_count": 29,
   "id": "c17145e4",
   "metadata": {},
   "outputs": [
    {
     "name": "stdout",
     "output_type": "stream",
     "text": [
      "['i', 'n', 't', 'v', 'i', 'e']\n",
      "['v', 'i', 'e', 'w']\n",
      "['e', 'w', 'b', 'i', 't']\n",
      "['i', 'n', 't', 'v', 'i', 'e', 'w', 'b', 'i', 't']\n",
      "['i', 'n', 't', 'v']\n"
     ]
    }
   ],
   "source": [
    "my_List = ['i', 'n', 't', 'v', 'i', 'e', 'w', 'b', 'i', 't']\n",
    "# 6. indekse kadarm olan öğeler \n",
    "print(my_List[:6])\n",
    "# 3-6 indeks arası öğeler\n",
    "print(my_List[3:7])\n",
    "# 5. indeksten listenin sonuna kadar olan öğeler\n",
    "print(my_List[5:])\n",
    "# baştan sona olan tüm öğeler\n",
    "print(my_List[:])\n",
    "# negatif yönde olan listeleme\n",
    "print(my_List[:-6])\n"
   ]
  },
  {
   "cell_type": "code",
   "execution_count": 31,
   "id": "df34f2d4",
   "metadata": {},
   "outputs": [
    {
     "name": "stdout",
     "output_type": "stream",
     "text": [
      "[1, 2, 3, 4, 5, 6, 7, 8]\n",
      "[1, 2, 1, 1, 1, 6, 7, 8]\n",
      "[1, 2, 7, 8]\n"
     ]
    }
   ],
   "source": [
    "List = [1, 2, 3, 4, 5, 6, 7, 8]\n",
    "print(List)\n",
    "# 2. indeksten 5. indekse karad olan elemanların değişimi\n",
    "List[2:5] = [1, 1, 1]\n",
    "print(List)\n",
    "# listeden elemanları silme\n",
    "del List[2:6]\n",
    "print(List)\n"
   ]
  },
  {
   "cell_type": "code",
   "execution_count": null,
   "id": "3b49ae5c",
   "metadata": {},
   "outputs": [],
   "source": []
  }
 ],
 "metadata": {
  "kernelspec": {
   "display_name": "Python 3 (ipykernel)",
   "language": "python",
   "name": "python3"
  },
  "language_info": {
   "codemirror_mode": {
    "name": "ipython",
    "version": 3
   },
   "file_extension": ".py",
   "mimetype": "text/x-python",
   "name": "python",
   "nbconvert_exporter": "python",
   "pygments_lexer": "ipython3",
   "version": "3.12.1"
  }
 },
 "nbformat": 4,
 "nbformat_minor": 5
}
