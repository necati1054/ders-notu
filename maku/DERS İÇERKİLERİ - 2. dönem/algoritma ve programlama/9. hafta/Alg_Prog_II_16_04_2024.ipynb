{
 "cells": [
  {
   "cell_type": "markdown",
   "id": "f64d6ffc",
   "metadata": {},
   "source": [
    "# BAĞLI LİSTELER (LINKED LIST)"
   ]
  },
  {
   "cell_type": "markdown",
   "id": "064e781d",
   "metadata": {},
   "source": [
    "Bağlı listeler (linked lists), bilgisayar bilimlerinde veri yapılarından biridir ve verileri ardışık düğümler halinde saklar. Her düğüm, veri ve bir sonraki düğümün referansını (bağlantısını) içerir. Bağlı listeler, dizilere benzerdir, ancak bellekte daha esnek bir şekilde veri saklamak için kullanılırlar. Temel olarak, her düğümdeki veri ve sonraki düğümün referansı sayesinde bağlı listeler verileri dinamik olarak saklamaya ve yönetmeye olanak tanır.\n",
    "\n",
    "#### Bağlı listelerin avantajları şunlardır:\n",
    "\n",
    "##### Esnek Boyut: Bağlı listelerin boyutu dinamiktir, yani çalışma zamanında ekleme veya çıkarma işlemleri yapılabilir ve boyutu değişebilir.\n",
    "##### Hafıza Kullanımı: Bellek kullanımı verimlidir, çünkü bağlı listeler gerektiği kadar bellek kullanır. Örneğin, diziler sabit boyutlu olduğundan boşta kalan bellek kullanılır.\n",
    "##### Ekleme ve Silme İşlemleri: Bağlı listelerde eleman ekleme ve silme işlemleri sabit zamanlıdır (O(1)), çünkü sadece bağlantılar güncellenir.\n",
    "\n",
    "#### Bağlı listelerin dezavantajları şunlardır:\n",
    "\n",
    "##### Rastgele Erişim Zorluğu: Elemanlara doğrudan erişim yapmak zordur. Örneğin, bir dizideki gibi indeks kullanarak erişim sağlanamaz, baştan başlayarak dolaşma gerekebilir (O(n) zaman karmaşıklığı).\n",
    "##### Bellek Tüketimi: Her düğüm için ek bir referans gerektiğinden ve her düğüm için bellekten bir miktar ayrılması gerektiğinden bellek kullanımı bir dezavantaj olabilir.\n",
    "\n",
    "Python'da bağlı listeleri örneklemek için, düğüm (node) ve bağlı liste sınıflarını tanımlayabiliriz.\n",
    "\n",
    "Örnek 1: Bağlı Liste Düğümü (Node)\n",
    "\n"
   ]
  },
  {
   "cell_type": "code",
   "execution_count": 4,
   "id": "9774b6f0",
   "metadata": {},
   "outputs": [],
   "source": [
    "class Node:\n",
    "    def __init__(self, data=None):\n",
    "        self.data = data\n",
    "        self.next = None"
   ]
  },
  {
   "cell_type": "markdown",
   "id": "5d6eda01",
   "metadata": {},
   "source": [
    "Bu sınıf, bağlı listedeki her düğümü temsil eder. data, düğümün içinde saklanacak veriyi temsil eder ve next, bir sonraki düğümün referansını tutar."
   ]
  },
  {
   "cell_type": "markdown",
   "id": "7dd9118c",
   "metadata": {},
   "source": [
    "Örnek 2: Bağlı Liste Sınıfı\n"
   ]
  },
  {
   "cell_type": "code",
   "execution_count": 5,
   "id": "8d24e02d",
   "metadata": {},
   "outputs": [],
   "source": [
    "class LinkedList:\n",
    "    def __init__(self):\n",
    "        self.head = None\n",
    "\n",
    "    def append(self, data):\n",
    "        new_node = Node(data)\n",
    "        if not self.head:\n",
    "            self.head = new_node\n",
    "            return\n",
    "        last_node = self.head\n",
    "        while last_node.next:\n",
    "            last_node = last_node.next\n",
    "        last_node.next = new_node\n",
    "\n",
    "    def print_list(self):\n",
    "        current_node = self.head\n",
    "        while current_node:\n",
    "            print(current_node.data, end=' -> ')\n",
    "            current_node = current_node.next\n",
    "        print(\"None\")"
   ]
  },
  {
   "cell_type": "markdown",
   "id": "23819b19",
   "metadata": {},
   "source": [
    "Bu sınıf, bağlı listeyi oluşturur. append metodu, listeye yeni bir düğüm eklemek için kullanılır. print_list metodu ise listenin içeriğini baştan sona yazdırmak için kullanılır."
   ]
  },
  {
   "cell_type": "markdown",
   "id": "55767d39",
   "metadata": {},
   "source": [
    "Örnek Kullanım:\n"
   ]
  },
  {
   "cell_type": "code",
   "execution_count": 6,
   "id": "05a63ac9",
   "metadata": {},
   "outputs": [
    {
     "name": "stdout",
     "output_type": "stream",
     "text": [
      "1 -> 2 -> 3 -> None\n"
     ]
    }
   ],
   "source": [
    "# Bağlı liste oluştur\n",
    "linked_list = LinkedList()\n",
    "\n",
    "# Elemanları ekle\n",
    "linked_list.append(1)\n",
    "linked_list.append(2)\n",
    "linked_list.append(3)\n",
    "\n",
    "# Bağlı listeyi yazdır\n",
    "linked_list.print_list()\n"
   ]
  },
  {
   "cell_type": "markdown",
   "id": "e859aed7",
   "metadata": {},
   "source": [
    "Bu örnek, 1 -> 2 -> 3 -> None şeklinde bir bağlı liste oluşturur ve yazdırır.\n",
    "\n",
    "Bağlı listeler, veri yapıları üzerinde önemli bir kavramdır ve genellikle uygulama geliştirme veya algoritmaları anlamak için önemlidir. Başka bağlı liste işlemleri ve uygulamaları da vardır (örneğin, düğüm ekleme, düğüm silme, ters çevirme vb.), bu da bağlı listelerin kullanışlı ve çok yönlü veri yapıları olduğunu gösterir."
   ]
  },
  {
   "cell_type": "markdown",
   "id": "3398edb5",
   "metadata": {},
   "source": [
    "Bağlı listelerin çeşitli işlemleri ve uygulamaları, veri yapılarını kullanarak problemleri çözmek veya belirli veri yapıları üzerinde operasyonlar gerçekleştirmek için kullanılabilir. İşte bağlı listelerde sıkça kullanılan bazı işlemler ve uygulamalar:\n",
    "\n",
    "##### Düğüm Ekleme: Bağlı listeye yeni düğümler eklemek, listenin sonuna veya belirli bir konumuna eklemek için kullanılır."
   ]
  },
  {
   "cell_type": "code",
   "execution_count": 8,
   "id": "6e74a461",
   "metadata": {},
   "outputs": [],
   "source": [
    "def insert_after(self, prev_node, data):\n",
    "    if not prev_node:\n",
    "        print(\"Önceki düğüm boş olamaz.\")\n",
    "        return\n",
    "    new_node = Node(data)\n",
    "    new_node.next = prev_node.next\n",
    "    prev_node.next = new_node"
   ]
  },
  {
   "cell_type": "markdown",
   "id": "52e7a70b",
   "metadata": {},
   "source": [
    "Bu metod, prev_node düğümünden sonraki konuma data değerine sahip yeni bir düğüm ekler."
   ]
  },
  {
   "cell_type": "markdown",
   "id": "7d7a6578",
   "metadata": {},
   "source": [
    "##### Düğüm Silme: Bağlı listeden belirli bir düğümü veya değeri silmek için kullanılır.\n"
   ]
  },
  {
   "cell_type": "code",
   "execution_count": 9,
   "id": "572dbca7",
   "metadata": {},
   "outputs": [],
   "source": [
    "def delete_node(self, key):\n",
    "    current_node = self.head\n",
    "\n",
    "    # Başlangıç düğümü siliniyorsa\n",
    "    if current_node and current_node.data == key:\n",
    "        self.head = current_node.next\n",
    "        current_node = None\n",
    "        return\n",
    "\n",
    "    prev_node = None\n",
    "    while current_node and current_node.data != key:\n",
    "        prev_node = current_node\n",
    "        current_node = current_node.next\n",
    "\n",
    "    if not current_node:\n",
    "        print(\"Silinmek istenen düğüm bulunamadı.\")\n",
    "        return\n",
    "\n",
    "    prev_node.next = current_node.next\n",
    "    current_node = None"
   ]
  },
  {
   "cell_type": "markdown",
   "id": "9bea0457",
   "metadata": {},
   "source": [
    "Bu metod, belirtilen key değerine sahip düğümü bağlı listeden siler."
   ]
  },
  {
   "cell_type": "markdown",
   "id": "69645009",
   "metadata": {},
   "source": [
    "##### Döngü (Loop) Tespiti: Bağlı listede döngü olup olmadığını tespit etmek için kullanılır."
   ]
  },
  {
   "cell_type": "code",
   "execution_count": 11,
   "id": "81ec220c",
   "metadata": {},
   "outputs": [],
   "source": [
    "def detect_loop(self):\n",
    "    slow_ptr = self.head\n",
    "    fast_ptr = self.head\n",
    "\n",
    "    while slow_ptr and fast_ptr and fast_ptr.next:\n",
    "        slow_ptr = slow_ptr.next           # Yavaş işaretçiyi bir adım ileri taşı\n",
    "        fast_ptr = fast_ptr.next.next      # Hızlı işaretçiyi iki adım ileri taşı\n",
    "\n",
    "        # Eğer iki işaretçi aynı düğümü gösterirse, döngü vardır\n",
    "        if slow_ptr == fast_ptr:\n",
    "            return True\n",
    "\n",
    "    # Eğer fast_ptr None'a ulaşırsa, döngü yok demektir\n",
    "    return False"
   ]
  },
  {
   "cell_type": "markdown",
   "id": "b8ec58f4",
   "metadata": {},
   "source": [
    "Döngü (Loop) Tespiti işlemini bir çift yönlü bağlı listede nasıl gerçekleştirebileceğimizi açıklamak için önce bu işlemin nasıl çalıştığını anlatalım. Döngü tespiti, bağlı listede döngü olup olmadığını belirlemek için kullanılır. Bir döngü varsa, listede bir düğümün başlangıç noktasına geri dönüldüğünü ve sonsuza kadar döngü içinde kaldığını gösterir.\n",
    "\n",
    "İşte çift yönlü bağlı listede döngü tespiti için adım adım açıklamalar:\n",
    "\n",
    "İki İşaretçi Kullanımı: Döngü tespiti için iki işaretçi kullanılır: slow_ptr (yavaş işaretçi) ve fast_ptr (hızlı işaretçi). Başlangıçta her ikisi de başlangıç düğümünü (head) gösterir.\n",
    "\n",
    "Hareket Kuralları: Her adımda, slow_ptr bir düğüm ilerlerken fast_ptr iki düğüm ilerler. Bu yöntemde, eğer bağlı listede bir döngü varsa, fast_ptr eninde sonunda slow_ptr'yi yakalayacak ve bu durum döngü tespiti olarak ele alınır.\n",
    "\n",
    "Döngü Kontrolü: Her adımda, slow_ptr ve fast_ptr ilerlerken, eğer fast_ptr bir None değerine ulaşırsa (yani listede döngü yoksa), döngü tespiti tamamlanır ve döngü bulunamaz. Ancak fast_ptr ve slow_ptr bir noktada eşitlenirse, bu listede bir döngü olduğunu gösterir.\n",
    "\n",
    "Bu açıklamaları kullanarak Python'da çift yönlü bağlı listede döngü tespitini gerçekleştiren fonksiyonu yukarıda yazdık."
   ]
  },
  {
   "cell_type": "markdown",
   "id": "22fbeabf",
   "metadata": {},
   "source": [
    "Yukarıdaki detect_loop fonksiyonu, çift yönlü bağlı listede döngü tespitini gerçekleştirir. Başlangıçta slow_ptr ve fast_ptr her ikisi de başlangıç düğümünü (head) gösterir. Döngü içinde, slow_ptr bir adım ilerlerken fast_ptr iki adım ilerler. Eğer bir döngü varsa (yani fast_ptr ve slow_ptr bir noktada eşitlenirse), fonksiyon True döner. Eğer fast_ptr None değerine ulaşırsa (yani döngü yoksa), fonksiyon False döner.\n",
    "\n",
    "Bu şekilde, çift yönlü bağlı listede döngü tespiti nasıl yapılacağını anladık. Bu fonksiyon, bağlı listelerde döngü tespiti yaparken kullanılabilir ve listenin döngülü olup olmadığını belirlemek için oldukça etkilidir."
   ]
  },
  {
   "cell_type": "markdown",
   "id": "c1070e9b",
   "metadata": {},
   "source": [
    "Bağlı listeler, verileri bağlantılı düğümler halinde saklayan veri yapılarıdır. Her düğüm, veriyi (data) ve bir sonraki düğümün referansını (next) içerir. Bağlı listeler, tek yönlü (singly linked list) veya çift yönlü (doubly linked list) olabilir. İlk olarak, tek yönlü bir bağlı liste yapısını detaylı bir şekilde açıklayalım ve ardından Python örnekleri ile pekiştirelim."
   ]
  },
  {
   "cell_type": "markdown",
   "id": "32daecdf",
   "metadata": {},
   "source": [
    "### Tek Yönlü Bağlı Liste Yapısı:\n"
   ]
  },
  {
   "cell_type": "markdown",
   "id": "75cc6282",
   "metadata": {},
   "source": [
    "Bir tek yönlü bağlı listede her düğüm, veri ve bir sonraki düğümün referansını içerir. Bağlı listenin başlangıç noktası genellikle head olarak adlandırılır."
   ]
  },
  {
   "attachments": {
    "image.png": {
     "image/png": "[encoded data removed]"
    }
   },
   "cell_type": "markdown",
   "id": "00c39822",
   "metadata": {},
   "source": [
    "![image.png](attachment:image.png)\n",
    "\n",
    "Yukarıdaki görseldeki unsurları açıklayalım:\n",
    "\n"
   ]
  },
  {
   "cell_type": "markdown",
   "id": "9caf661c",
   "metadata": {},
   "source": [
    "Düğüm (Node): Bağlı listenin temel yapı birimidir. Her düğüm, veriyi (örneğin bir sayı veya nesne) ve bir sonraki düğümün referansını (next) içerir.\n",
    "\n",
    "Başlangıç Düğümü (Head): Bağlı listenin başlangıç noktasıdır. Liste boşsa head değeri None olabilir veya başlangıç düğümünün referansını içerebilir.\n",
    "\n",
    "Veri (Data): Her düğümde saklanan bilgidir. Örneğin, bir bağlı listenin düğümleri sayılar (1, 2, 3 gibi) veya başka veri türleri içerebilir.\n",
    "\n",
    "Düğüm Referansı (Next): Her düğüm, bir sonraki düğümün referansını tutar. Bu referans sayesinde bağlı liste elemanları birbirine bağlıdır."
   ]
  },
  {
   "cell_type": "markdown",
   "id": "8f18e334",
   "metadata": {},
   "source": [
    "Tek Yönlü Bağlı Liste Python Örneği:\n",
    "Şimdi, yukarıdaki yapıyı temsil eden bir Python sınıfı oluşturalım ve bazı bağlı liste işlemlerini gerçekleştirelim."
   ]
  },
  {
   "cell_type": "code",
   "execution_count": 12,
   "id": "cb5d7d43",
   "metadata": {},
   "outputs": [
    {
     "name": "stdout",
     "output_type": "stream",
     "text": [
      "1 -> 2 -> 3 -> None\n"
     ]
    }
   ],
   "source": [
    "class Node:\n",
    "    def __init__(self, data=None):\n",
    "        self.data = data\n",
    "        self.next = None\n",
    "\n",
    "class LinkedList:\n",
    "    def __init__(self):\n",
    "        self.head = None\n",
    "\n",
    "    def append(self, data):\n",
    "        new_node = Node(data)\n",
    "        if not self.head:\n",
    "            self.head = new_node\n",
    "            return\n",
    "        last_node = self.head\n",
    "        while last_node.next:\n",
    "            last_node = last_node.next\n",
    "        last_node.next = new_node\n",
    "\n",
    "    def print_list(self):\n",
    "        current_node = self.head\n",
    "        while current_node:\n",
    "            print(current_node.data, end=' -> ')\n",
    "            current_node = current_node.next\n",
    "        print(\"None\")\n",
    "\n",
    "# Bağlı listeyi oluştur\n",
    "linked_list = LinkedList()\n",
    "\n",
    "# Elemanları ekleyelim\n",
    "linked_list.append(1)\n",
    "linked_list.append(2)\n",
    "linked_list.append(3)\n",
    "\n",
    "# Bağlı listeyi yazdıralım\n",
    "linked_list.print_list()\n"
   ]
  },
  {
   "cell_type": "markdown",
   "id": "504a3259",
   "metadata": {},
   "source": [
    "Yukarıdaki Python kodunda:\n",
    "\n",
    "Node sınıfı, bağlı listenin düğümünü temsil eder. Her düğüm, veri (data) ve bir sonraki düğümün referansı (next) ile oluşturulur.\n",
    "\n",
    "LinkedList sınıfı, bağlı listeyi yönetir. append metoduyla yeni düğümler eklenir ve print_list metoduyla bağlı liste içeriği yazdırılır.\n",
    "\n",
    "Bu örnek, bağlı listeyi oluşturmayı, elemanları eklemeyi ve bağlı liste içeriğini yazdırmayı göstermektedir. "
   ]
  },
  {
   "cell_type": "markdown",
   "id": "9b98e8b0",
   "metadata": {},
   "source": [
    "Çift yönlü bağlı liste (doubly linked list), her düğümün bir önceki ve bir sonraki düğümün referansını içeren bir bağlı liste türüdür. Bu yapının her düğümü, veriyi (data), bir önceki düğümün referansını (prev) ve bir sonraki düğümün referansını (next) içerir. Çift yönlü bağlı listeler, hem ileri hem de geri yönlü iterasyon imkanı sağlar ve bazı işlemler için daha etkili olabilirler.\n",
    "\n",
    "#### Çift Yönlü Bağlı Liste Yapısı:\n",
    "Bir çift yönlü bağlı listedeki düğümler, şu şekilde birbirine bağlanır:"
   ]
  },
  {
   "attachments": {
    "image.png": {
     "image/png": "[encoded data removed]"
    }
   },
   "cell_type": "markdown",
   "id": "b57d30f4",
   "metadata": {},
   "source": [
    "![image.png](attachment:image.png)\n",
    "\n",
    "Yukarıdaki görseldeki unsurları açıklayalım:\n"
   ]
  },
  {
   "cell_type": "markdown",
   "id": "fb23c731",
   "metadata": {},
   "source": [
    "Düğüm (Node): Her düğüm, veriyi (data), bir önceki düğümün referansını (prev) ve bir sonraki düğümün referansını (next) içerir.\n",
    "\n",
    "Başlangıç Düğümü (Head): Bağlı listenin başlangıç noktasıdır. Liste boşsa head değeri None olabilir veya başlangıç düğümünün referansını içerebilir.\n",
    "\n",
    "Veri (Data): Her düğümde saklanan bilgidir. Örneğin, bir bağlı listenin düğümleri sayılar (1, 2, 3 gibi) veya başka veri türleri içerebilir.\n",
    "\n",
    "Önceki Referans (Prev): Her düğüm, bir önceki düğümün referansını (prev) tutar. Bu sayede çift yönlü iterasyon yapılabilir.\n",
    "\n",
    "Sonraki Referans (Next): Her düğüm, bir sonraki düğümün referansını (next) tutar. Bu sayede liste ileri yönlü olarak dolaşılabilir."
   ]
  },
  {
   "cell_type": "markdown",
   "id": "f3de3b38",
   "metadata": {},
   "source": [
    "Çift Yönlü Bağlı Liste Python Örneği:\n",
    "Şimdi, yukarıdaki yapıyı temsil eden bir Python sınıfı oluşturalım ve bazı çift yönlü bağlı liste işlemlerini gerçekleştirelim.\n",
    "\n"
   ]
  },
  {
   "cell_type": "code",
   "execution_count": 13,
   "id": "949e9aee",
   "metadata": {},
   "outputs": [
    {
     "name": "stdout",
     "output_type": "stream",
     "text": [
      "İleri Yönlü:\n",
      "1 <-> 2 <-> 3 <-> None\n",
      "\n",
      "Geriye Doğru:\n",
      "3 <-> 2 <-> 1 <-> None\n"
     ]
    }
   ],
   "source": [
    "class Node:\n",
    "    def __init__(self, data=None):\n",
    "        self.data = data\n",
    "        self.prev = None\n",
    "        self.next = None\n",
    "\n",
    "class DoublyLinkedList:\n",
    "    def __init__(self):\n",
    "        self.head = None\n",
    "\n",
    "    def append(self, data):\n",
    "        new_node = Node(data)\n",
    "        if not self.head:\n",
    "            self.head = new_node\n",
    "        else:\n",
    "            current_node = self.head\n",
    "            while current_node.next:\n",
    "                current_node = current_node.next\n",
    "            current_node.next = new_node\n",
    "            new_node.prev = current_node\n",
    "\n",
    "    def print_forward(self):\n",
    "        current_node = self.head\n",
    "        while current_node:\n",
    "            print(current_node.data, end=' <-> ')\n",
    "            current_node = current_node.next\n",
    "        print(\"None\")\n",
    "\n",
    "    def print_backward(self):\n",
    "        current_node = self.head\n",
    "        while current_node and current_node.next:\n",
    "            current_node = current_node.next\n",
    "        \n",
    "        while current_node:\n",
    "            print(current_node.data, end=' <-> ')\n",
    "            current_node = current_node.prev\n",
    "        print(\"None\")\n",
    "\n",
    "# Çift yönlü bağlı listeyi oluştur\n",
    "doubly_linked_list = DoublyLinkedList()\n",
    "\n",
    "# Elemanları ekleyelim\n",
    "doubly_linked_list.append(1)\n",
    "doubly_linked_list.append(2)\n",
    "doubly_linked_list.append(3)\n",
    "\n",
    "# İleri yönlü bağlı listeyi yazdıralım\n",
    "print(\"İleri Yönlü:\")\n",
    "doubly_linked_list.print_forward()\n",
    "\n",
    "# Geriye doğru bağlı listeyi yazdıralım\n",
    "print(\"\\nGeriye Doğru:\")\n",
    "doubly_linked_list.print_backward()\n"
   ]
  },
  {
   "cell_type": "markdown",
   "id": "3636ab01",
   "metadata": {},
   "source": [
    "Yukarıdaki Python kodunda:\n",
    "\n",
    "Node sınıfı, çift yönlü bağlı listenin düğümünü temsil eder. Her düğüm, veri (data), bir önceki düğümün referansını (prev) ve bir sonraki düğümün referansını (next) içerir.\n",
    "\n",
    "DoublyLinkedList sınıfı, çift yönlü bağlı listeyi yönetir. append metoduyla yeni düğümler eklenir. print_forward metoduyla liste ileri yönlü olarak, print_backward metoduyla ise liste geriye doğru olarak yazdırılır.\n",
    "\n",
    "Bu örnek, çift yönlü bağlı listeyi oluşturmayı, elemanları eklemeyi ve ileri/geri yönlü olarak liste içeriğini yazdırmayı göstermektedir. Çift yönlü bağlı listeler, bazı durumlarda çözümlemesi ve kullanımı daha kolay olan bir veri yapısıdır, çünkü her düğümün hem önceki hem de sonraki düğümün referansını içermesi sayesinde daha esnek iterasyon imkanı sunar."
   ]
  },
  {
   "cell_type": "code",
   "execution_count": null,
   "id": "ddfcaf53",
   "metadata": {},
   "outputs": [],
   "source": []
  }
 ],
 "metadata": {
  "kernelspec": {
   "display_name": "Python 3 (ipykernel)",
   "language": "python",
   "name": "python3"
  },
  "language_info": {
   "codemirror_mode": {
    "name": "ipython",
    "version": 3
   },
   "file_extension": ".py",
   "mimetype": "text/x-python",
   "name": "python",
   "nbconvert_exporter": "python",
   "pygments_lexer": "ipython3",
   "version": "3.11.5"
  }
 },
 "nbformat": 4,
 "nbformat_minor": 5
}
